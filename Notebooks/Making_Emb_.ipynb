{
 "cells": [
  {
   "cell_type": "code",
   "execution_count": 0,
   "metadata": {
    "colab": {
     "base_uri": "https://localhost:8080/",
     "height": 35
    },
    "colab_type": "code",
    "id": "ZaFPN2i12a5V",
    "outputId": "25df9699-a39f-46be-e2c9-445f1bbd0f98"
   },
   "outputs": [
    {
     "name": "stdout",
     "output_type": "stream",
     "text": [
      "Drive already mounted at /content/drive; to attempt to forcibly remount, call drive.mount(\"/content/drive\", force_remount=True).\n"
     ]
    }
   ],
   "source": [
    "from google.colab import drive\n",
    "drive.mount('/content/drive')"
   ]
  },
  {
   "cell_type": "markdown",
   "metadata": {
    "colab_type": "text",
    "id": "hz9LT2SurfkL"
   },
   "source": [
    "**Imports**"
   ]
  },
  {
   "cell_type": "code",
   "execution_count": 0,
   "metadata": {
    "colab": {
     "base_uri": "https://localhost:8080/",
     "height": 72
    },
    "colab_type": "code",
    "id": "25q6fwm_47pX",
    "outputId": "e997a970-214c-47fb-e5cf-19949be596cf"
   },
   "outputs": [
    {
     "name": "stdout",
     "output_type": "stream",
     "text": [
      "[nltk_data] Downloading package punkt to /root/nltk_data...\n",
      "[nltk_data]   Unzipping tokenizers/punkt.zip.\n"
     ]
    },
    {
     "data": {
      "text/plain": [
       "True"
      ]
     },
     "execution_count": 2,
     "metadata": {
      "tags": []
     },
     "output_type": "execute_result"
    }
   ],
   "source": [
    "import tensorflow as tf\n",
    "import tensorflow_hub as hub\n",
    "import numpy as np\n",
    "import pandas as pd\n",
    "import nltk\n",
    "from nltk.tokenize import sent_tokenize \n",
    "nltk.download('punkt')"
   ]
  },
  {
   "cell_type": "markdown",
   "metadata": {
    "colab_type": "text",
    "id": "RjDY6t3Sri7R"
   },
   "source": [
    "**Functions**"
   ]
  },
  {
   "cell_type": "code",
   "execution_count": 0,
   "metadata": {
    "colab": {
     "base_uri": "https://localhost:8080/",
     "height": 90
    },
    "colab_type": "code",
    "id": "NuYeZRcK7z6h",
    "outputId": "900b2185-39ea-4330-9e3d-0fd6f378073f"
   },
   "outputs": [
    {
     "name": "stdout",
     "output_type": "stream",
     "text": [
      "INFO:tensorflow:Using /tmp/tfhub_modules to cache modules.\n",
      "INFO:tensorflow:Downloading TF-Hub Module 'https://tfhub.dev/google/universal-sentence-encoder-large/3'.\n",
      "INFO:tensorflow:Downloaded https://tfhub.dev/google/universal-sentence-encoder-large/3, Total size: 810.60MB\n",
      "INFO:tensorflow:Downloaded TF-Hub Module 'https://tfhub.dev/google/universal-sentence-encoder-large/3'.\n"
     ]
    }
   ],
   "source": [
    "# Functions\n",
    "def get_details(nested_list):\n",
    "  '''\n",
    "  Returns locc and flatten;\n",
    "  '''\n",
    "  #flatten\n",
    "  flat_ = [item for sublist in nested_list for item in sublist]\n",
    "  locc = []\n",
    "  for i in range(len(nested_list)):\n",
    "    locc.append(len(nested_list[i]))\n",
    "  # locc contain sentence count for each article\n",
    "\n",
    "  print('Number of sentences {}'.format(len(flat_)))\n",
    "  print('First five articles sentence count {} '.format(locc[:5]))\n",
    "  return (locc,flat_)\n",
    "\n",
    "# google embeddings\n",
    "def get_sentence_embeddings(x):\n",
    "  with tf.Session() as session:\n",
    "    session.run([tf.global_variables_initializer(), tf.tables_initializer()])\n",
    "    message_embeddings = session.run(google_embed(x))\n",
    "  return message_embeddings\n",
    "\n",
    "sentence_encoder_module_url = \"https://tfhub.dev/google/universal-sentence-encoder-large/3\" \n",
    "google_embed = hub.Module(sentence_encoder_module_url)\n"
   ]
  },
  {
   "cell_type": "markdown",
   "metadata": {
    "colab_type": "text",
    "id": "RX_d4mN_735f"
   },
   "source": [
    "# **Dataset-3**"
   ]
  },
  {
   "cell_type": "code",
   "execution_count": 0,
   "metadata": {
    "colab": {},
    "colab_type": "code",
    "id": "s96l3K3z8CwQ"
   },
   "outputs": [],
   "source": [
    "# Modules\n",
    "tf.logging.set_verbosity(tf.logging.ERROR)"
   ]
  },
  {
   "cell_type": "code",
   "execution_count": 0,
   "metadata": {
    "colab": {},
    "colab_type": "code",
    "id": "aOFnskB5-XPq"
   },
   "outputs": [],
   "source": [
    "dic = {'FAKE':1,'REAL':0}"
   ]
  },
  {
   "cell_type": "code",
   "execution_count": 0,
   "metadata": {
    "colab": {
     "base_uri": "https://localhost:8080/",
     "height": 198
    },
    "colab_type": "code",
    "id": "8miLfomT73OB",
    "outputId": "5a7ab7ac-c1f1-45b4-921a-e30171f45947"
   },
   "outputs": [
    {
     "data": {
      "text/html": [
       "<div>\n",
       "<style scoped>\n",
       "    .dataframe tbody tr th:only-of-type {\n",
       "        vertical-align: middle;\n",
       "    }\n",
       "\n",
       "    .dataframe tbody tr th {\n",
       "        vertical-align: top;\n",
       "    }\n",
       "\n",
       "    .dataframe thead th {\n",
       "        text-align: right;\n",
       "    }\n",
       "</style>\n",
       "<table border=\"1\" class=\"dataframe\">\n",
       "  <thead>\n",
       "    <tr style=\"text-align: right;\">\n",
       "      <th></th>\n",
       "      <th>text</th>\n",
       "      <th>label</th>\n",
       "      <th>sent_c</th>\n",
       "    </tr>\n",
       "  </thead>\n",
       "  <tbody>\n",
       "    <tr>\n",
       "      <th>0</th>\n",
       "      <td>Daniel Greenfield, a Shillman Journalism Fello...</td>\n",
       "      <td>1</td>\n",
       "      <td>87</td>\n",
       "    </tr>\n",
       "    <tr>\n",
       "      <th>1</th>\n",
       "      <td>Google Pinterest Digg Linkedin Reddit Stumbleu...</td>\n",
       "      <td>1</td>\n",
       "      <td>26</td>\n",
       "    </tr>\n",
       "    <tr>\n",
       "      <th>2</th>\n",
       "      <td>U.S. Secretary of State John F. Kerry said Mon...</td>\n",
       "      <td>0</td>\n",
       "      <td>16</td>\n",
       "    </tr>\n",
       "    <tr>\n",
       "      <th>3</th>\n",
       "      <td>— Kaydee King (@KaydeeKing) November 9, 2016 T...</td>\n",
       "      <td>1</td>\n",
       "      <td>17</td>\n",
       "    </tr>\n",
       "    <tr>\n",
       "      <th>4</th>\n",
       "      <td>It's primary day in New York and front-runners...</td>\n",
       "      <td>0</td>\n",
       "      <td>21</td>\n",
       "    </tr>\n",
       "  </tbody>\n",
       "</table>\n",
       "</div>"
      ],
      "text/plain": [
       "                                                text  label  sent_c\n",
       "0  Daniel Greenfield, a Shillman Journalism Fello...      1      87\n",
       "1  Google Pinterest Digg Linkedin Reddit Stumbleu...      1      26\n",
       "2  U.S. Secretary of State John F. Kerry said Mon...      0      16\n",
       "3  — Kaydee King (@KaydeeKing) November 9, 2016 T...      1      17\n",
       "4  It's primary day in New York and front-runners...      0      21"
      ]
     },
     "execution_count": 17,
     "metadata": {
      "tags": []
     },
     "output_type": "execute_result"
    }
   ],
   "source": [
    "data = pd.read_csv('drive/My Drive/CSV/fake_or_real_news.csv')[['text','label']]\n",
    "data['label'] = data['label'].apply(lambda x: dic[x])\n",
    "data['sent_c'] = data['text'].astype(str).apply(sent_tokenize).apply(len)\n",
    "data.head()"
   ]
  },
  {
   "cell_type": "code",
   "execution_count": 0,
   "metadata": {
    "colab": {
     "base_uri": "https://localhost:8080/",
     "height": 35
    },
    "colab_type": "code",
    "id": "L_rSDVuH9LPT",
    "outputId": "b9c9dea9-68e9-4004-dece-b6a60221d5d5"
   },
   "outputs": [
    {
     "data": {
      "text/plain": [
       "(1344, 34.31349644830308)"
      ]
     },
     "execution_count": 18,
     "metadata": {
      "tags": []
     },
     "output_type": "execute_result"
    }
   ],
   "source": [
    "# Maximum number of sentences an article can have.\n",
    "np.max(data['sent_c']),np.mean(data['sent_c']) #1 unreliable"
   ]
  },
  {
   "cell_type": "code",
   "execution_count": 0,
   "metadata": {
    "colab": {
     "base_uri": "https://localhost:8080/",
     "height": 72
    },
    "colab_type": "code",
    "id": "8cEPlG2o9QcZ",
    "outputId": "b7e44e47-c60f-4f39-d6dc-e7fc8b8390b8"
   },
   "outputs": [
    {
     "data": {
      "text/plain": [
       "0    3171\n",
       "1    3164\n",
       "Name: label, dtype: int64"
      ]
     },
     "execution_count": 19,
     "metadata": {
      "tags": []
     },
     "output_type": "execute_result"
    }
   ],
   "source": [
    "data['label'].value_counts()"
   ]
  },
  {
   "cell_type": "code",
   "execution_count": 0,
   "metadata": {
    "colab": {
     "base_uri": "https://localhost:8080/",
     "height": 72
    },
    "colab_type": "code",
    "id": "0lVwIlU59XOZ",
    "outputId": "db877e47-5efd-4c53-f050-edca23ccc970"
   },
   "outputs": [
    {
     "name": "stdout",
     "output_type": "stream",
     "text": [
      "Type\t Count \n",
      "Fake\t 1993 \n",
      "Real\t 2005 \n"
     ]
    }
   ],
   "source": [
    "# Vectorized operations.\n",
    "# Selecting only those articles which have atleast 7 sentences and maximum of 50 sentences.\n",
    "# These are stored under different series.\n",
    "reliable = data[(data['label'] == 0) & ((data['sent_c'] > 7 ) & (data['sent_c'] < 50))]['text'].astype(str).reset_index(drop = True).apply(sent_tokenize)\n",
    "fake = data[(data['label'] == 1) & ((data['sent_c'] > 7 ) & (data['sent_c'] < 50))]['text'].astype(str).reset_index(drop = True).apply(sent_tokenize)\n",
    "print('Type\\t Count \\nFake\\t {} \\nReal\\t {} '.format(len(fake),len(reliable)))"
   ]
  },
  {
   "cell_type": "code",
   "execution_count": 0,
   "metadata": {
    "colab": {
     "base_uri": "https://localhost:8080/",
     "height": 90
    },
    "colab_type": "code",
    "id": "BVUe2eZO9XKs",
    "outputId": "3b8bf5b8-f3f5-476c-edb6-8c85a7cb8acb"
   },
   "outputs": [
    {
     "name": "stdout",
     "output_type": "stream",
     "text": [
      "Number of sentences 59622\n",
      "First five articles sentence count [16, 21, 32, 33, 13] \n",
      "Number of sentences 42579\n",
      "First five articles sentence count [26, 17, 18, 15, 18] \n"
     ]
    }
   ],
   "source": [
    "# Variables to store Sentence count of each articles and also flatten sentences belonging to particular class.\n",
    "# locc_x stores number of sentences in article at index 'i'.\n",
    "# flat_x list of sentences belonging to a particular class.\n",
    "locc_r,flat_r = get_details(reliable)\n",
    "locc_f,flat_f = get_details(fake)"
   ]
  },
  {
   "cell_type": "code",
   "execution_count": 0,
   "metadata": {
    "colab": {
     "base_uri": "https://localhost:8080/",
     "height": 417
    },
    "colab_type": "code",
    "id": "ZBql4iaP9XHn",
    "outputId": "2747415d-efa2-4faf-aa14-58eb512f46e4"
   },
   "outputs": [
    {
     "name": "stdout",
     "output_type": "stream",
     "text": [
      "Done -  100\n",
      "Done -  200\n",
      "Done -  300\n",
      "Done -  400\n",
      "Done -  500\n",
      "Done -  600\n",
      "Done -  700\n",
      "Done -  800\n",
      "Done -  900\n",
      "Done -  1000\n",
      "Done -  1100\n",
      "Done -  1200\n",
      "Done -  1300\n",
      "Done -  1400\n",
      "Done -  1500\n",
      "Done -  1600\n",
      "Done -  1700\n",
      "Done -  1800\n",
      "Done -  1900\n",
      "Done -  2000\n",
      "CPU times: user 3min 20s, sys: 29 s, total: 3min 49s\n",
      "Wall time: 4min 18s\n"
     ]
    }
   ],
   "source": [
    "%%time\n",
    "# fake\n",
    "# get flatten embeddings\n",
    "emb_l = []\n",
    "for i in range(100,2100,100):\n",
    "  g = get_sentence_embeddings(flat_f[np.sum(locc_f[:i-100],dtype=int):np.sum(locc_f[:i],dtype=int)])\n",
    "  emb_l.extend(g)\n",
    "  print('Done - ',i)"
   ]
  },
  {
   "cell_type": "code",
   "execution_count": 0,
   "metadata": {
    "colab": {},
    "colab_type": "code",
    "id": "wx5Rd0kG9XDe"
   },
   "outputs": [],
   "source": [
    "# pad and add\n",
    "# Pad each article by size (50,) \n",
    "def fix(arr,shp=50):\n",
    "  dif = shp - arr.shape[0]\n",
    "  temp = np.concatenate((arr, np.zeros((dif,512))))\n",
    "  return temp"
   ]
  },
  {
   "cell_type": "code",
   "execution_count": 0,
   "metadata": {
    "colab": {},
    "colab_type": "code",
    "id": "Wyk4jW3c9XAc"
   },
   "outputs": [],
   "source": [
    "# Converts emb_l to numpy.ndarray\n",
    "kf = np.array(emb_l)"
   ]
  },
  {
   "cell_type": "code",
   "execution_count": 0,
   "metadata": {
    "colab": {
     "base_uri": "https://localhost:8080/",
     "height": 72
    },
    "colab_type": "code",
    "id": "qHUo3-Fn9W8W",
    "outputId": "0b3dd24f-73bb-4513-82d3-8248d3423f2f"
   },
   "outputs": [
    {
     "name": "stdout",
     "output_type": "stream",
     "text": [
      "0\n",
      "1000\n",
      "2000\n"
     ]
    }
   ],
   "source": [
    "# Stores Embeddings article wise.\n",
    "# 3-D numpy array\n",
    "# First axis is for article, sencond for sentence in that article, last for embedding of that sentence.\n",
    "# This block saves the sentence embeddings for fake articles in ndarray of size (2100,50,512) \n",
    "# For Fake.\n",
    "fake_eb = np.zeros((2100,50,512))\n",
    "for i in range(2100):\n",
    "  fake_eb[i] = fix(kf[np.sum(locc_f[:i],dtype=int):np.sum(locc_f[:i+1],dtype=int)])\n",
    "  if i % 1000 == 0:\n",
    "    print(i)"
   ]
  },
  {
   "cell_type": "code",
   "execution_count": 0,
   "metadata": {
    "colab": {
     "base_uri": "https://localhost:8080/",
     "height": 35
    },
    "colab_type": "code",
    "id": "aF5QhKwoByIw",
    "outputId": "29fd8a88-320d-4844-9e7d-9da84809e38a"
   },
   "outputs": [
    {
     "data": {
      "text/plain": [
       "49"
      ]
     },
     "execution_count": 29,
     "metadata": {
      "tags": []
     },
     "output_type": "execute_result"
    }
   ],
   "source": [
    "locc_f[-1]"
   ]
  },
  {
   "cell_type": "code",
   "execution_count": 0,
   "metadata": {
    "colab": {
     "base_uri": "https://localhost:8080/",
     "height": 254
    },
    "colab_type": "code",
    "id": "KQ4K70Q2-HIh",
    "outputId": "cb23d858-23c9-45d7-b36b-89b20d379e77"
   },
   "outputs": [
    {
     "data": {
      "text/plain": [
       "array([[ 0.00516833,  0.04501137,  0.01362785, ...,  0.01684136,\n",
       "        -0.0797141 ,  0.08928163],\n",
       "       [-0.00821706,  0.0650119 ,  0.02585351, ..., -0.01776878,\n",
       "        -0.08600824,  0.03477053],\n",
       "       [ 0.00519345,  0.06998067,  0.04389189, ...,  0.00185938,\n",
       "        -0.06818746,  0.02950338],\n",
       "       ...,\n",
       "       [-0.02150729,  0.0653121 ,  0.0278233 , ...,  0.06458346,\n",
       "        -0.09412916, -0.01395573],\n",
       "       [ 0.05143762, -0.00100844,  0.01426676, ...,  0.05077499,\n",
       "        -0.08185079, -0.04849487],\n",
       "       [ 0.        ,  0.        ,  0.        , ...,  0.        ,\n",
       "         0.        ,  0.        ]])"
      ]
     },
     "execution_count": 39,
     "metadata": {
      "tags": []
     },
     "output_type": "execute_result"
    }
   ],
   "source": [
    "# Embedding of article 1992\n",
    "fake_eb[1992]"
   ]
  },
  {
   "cell_type": "code",
   "execution_count": 0,
   "metadata": {
    "colab": {
     "base_uri": "https://localhost:8080/",
     "height": 35
    },
    "colab_type": "code",
    "id": "aJE5CMPF-OI0",
    "outputId": "4bf26210-a04a-4d90-9723-0ae972e8ae3e"
   },
   "outputs": [
    {
     "name": "stdout",
     "output_type": "stream",
     "text": [
      "DONE\n"
     ]
    }
   ],
   "source": [
    "# Save\n",
    "np.save('drive/My Drive/CSV/emb/gm_fake_art_emb.npy',fake_eb[:1992])\n",
    "print('DONE')"
   ]
  },
  {
   "cell_type": "code",
   "execution_count": 0,
   "metadata": {
    "colab": {
     "base_uri": "https://localhost:8080/",
     "height": 417
    },
    "colab_type": "code",
    "id": "1lgUcyJ_CZQO",
    "outputId": "8d0ed227-cf24-4ab4-c0a1-373b84d42227"
   },
   "outputs": [
    {
     "name": "stdout",
     "output_type": "stream",
     "text": [
      "Done -  500\n",
      "Done -  600\n",
      "Done -  700\n",
      "Done -  800\n",
      "Done -  900\n",
      "Done -  1000\n",
      "Done -  1100\n",
      "Done -  1200\n",
      "Done -  1300\n",
      "Done -  1400\n",
      "Done -  1500\n",
      "Done -  1600\n",
      "Done -  1700\n",
      "Done -  1800\n",
      "Done -  1900\n",
      "Done -  2000\n",
      "Storing article wise\n",
      "0\n",
      "1000\n",
      "2000\n",
      "CPU times: user 7min 48s, sys: 38 s, total: 8min 26s\n",
      "Wall time: 9min 5s\n"
     ]
    }
   ],
   "source": [
    "# For Real articles\n",
    "%%time\n",
    "# get flatten embeddings\n",
    "emb_l = []\n",
    "for i in range(100,2100,100):\n",
    "  g = get_sentence_embeddings(flat_r[np.sum(locc_r[:i-100],dtype=int):np.sum(locc_r[:i],dtype=int)])\n",
    "  emb_l.extend(g)\n",
    "  print('Done - ',i)\n",
    "\n",
    "kr = np.array(emb_l)\n",
    "# store article wise\n",
    "# real\n",
    "print('Storing article wise')\n",
    "real_eb = np.zeros((2005,50,512))\n",
    "for i in range(2005):\n",
    "  real_eb[i] = fix(kr[np.sum(locc_r[:i],dtype=int):np.sum(locc_r[:i+1],dtype=int)])\n",
    "  if i % 1000 == 0:\n",
    "    print(i)\n",
    "\n"
   ]
  },
  {
   "cell_type": "code",
   "execution_count": 0,
   "metadata": {
    "colab": {
     "base_uri": "https://localhost:8080/",
     "height": 35
    },
    "colab_type": "code",
    "id": "XMiK3tVQCsyY",
    "outputId": "a681cb87-3d4f-437a-a5d7-2298bd663ef6"
   },
   "outputs": [
    {
     "data": {
      "text/plain": [
       "40"
      ]
     },
     "execution_count": 42,
     "metadata": {
      "tags": []
     },
     "output_type": "execute_result"
    }
   ],
   "source": [
    "locc_r[-1]"
   ]
  },
  {
   "cell_type": "code",
   "execution_count": 0,
   "metadata": {
    "colab": {
     "base_uri": "https://localhost:8080/",
     "height": 254
    },
    "colab_type": "code",
    "id": "u1zbBDE9CvUg",
    "outputId": "8ae20697-6192-4aa1-d529-7b3df4f6f713"
   },
   "outputs": [
    {
     "data": {
      "text/plain": [
       "array([[-0.00738448,  0.06155591, -0.01431142, ...,  0.04967426,\n",
       "        -0.0654976 , -0.0503073 ],\n",
       "       [ 0.03444352,  0.02450357, -0.02920063, ...,  0.0609739 ,\n",
       "        -0.06556787, -0.02084291],\n",
       "       [-0.05341914,  0.05327339, -0.02250584, ...,  0.00187581,\n",
       "        -0.06644455, -0.02493873],\n",
       "       ...,\n",
       "       [ 0.        ,  0.        ,  0.        , ...,  0.        ,\n",
       "         0.        ,  0.        ],\n",
       "       [ 0.        ,  0.        ,  0.        , ...,  0.        ,\n",
       "         0.        ,  0.        ],\n",
       "       [ 0.        ,  0.        ,  0.        , ...,  0.        ,\n",
       "         0.        ,  0.        ]])"
      ]
     },
     "execution_count": 52,
     "metadata": {
      "tags": []
     },
     "output_type": "execute_result"
    }
   ],
   "source": [
    "real_eb[1900]"
   ]
  },
  {
   "cell_type": "code",
   "execution_count": 0,
   "metadata": {
    "colab": {
     "base_uri": "https://localhost:8080/",
     "height": 35
    },
    "colab_type": "code",
    "id": "h9mXmseeCzAN",
    "outputId": "8486e5f0-30a5-4e63-8f33-a4c60cb4490c"
   },
   "outputs": [
    {
     "name": "stdout",
     "output_type": "stream",
     "text": [
      "DONE\n"
     ]
    }
   ],
   "source": [
    "np.save('drive/My Drive/CSV/emb/gm_real_art_emb.npy',real_eb[:1900])\n",
    "print('DONE')"
   ]
  },
  {
   "cell_type": "code",
   "execution_count": 0,
   "metadata": {
    "colab": {
     "base_uri": "https://localhost:8080/",
     "height": 254
    },
    "colab_type": "code",
    "id": "OkrBQ5wZGTJK",
    "outputId": "0628bd7a-21a2-448f-b331-0839b6615e7a"
   },
   "outputs": [
    {
     "data": {
      "text/plain": [
       "array([[-0.01181953, -0.0329638 , -0.0759801 , ...,  0.01908643,\n",
       "        -0.03077014, -0.02270482],\n",
       "       [-0.04236378,  0.04218095, -0.03740076, ..., -0.03504987,\n",
       "        -0.07494948, -0.07400515],\n",
       "       [-0.02795526, -0.02811907, -0.09401192, ..., -0.00776716,\n",
       "        -0.06690258, -0.11275351],\n",
       "       ...,\n",
       "       [ 0.        ,  0.        ,  0.        , ...,  0.        ,\n",
       "         0.        ,  0.        ],\n",
       "       [ 0.        ,  0.        ,  0.        , ...,  0.        ,\n",
       "         0.        ,  0.        ],\n",
       "       [ 0.        ,  0.        ,  0.        , ...,  0.        ,\n",
       "         0.        ,  0.        ]])"
      ]
     },
     "execution_count": 54,
     "metadata": {
      "tags": []
     },
     "output_type": "execute_result"
    }
   ],
   "source": [
    "# sanity check\n",
    "real_eb[0] - fake_eb[0]"
   ]
  },
  {
   "cell_type": "markdown",
   "metadata": {},
   "source": [
    "## Done"
   ]
  }
 ],
 "metadata": {
  "accelerator": "GPU",
  "colab": {
   "collapsed_sections": [],
   "name": "Making_Emb_.ipynb",
   "provenance": [],
   "version": "0.3.2"
  },
  "kernelspec": {
   "display_name": "Python 3",
   "language": "python",
   "name": "python3"
  },
  "language_info": {
   "codemirror_mode": {
    "name": "ipython",
    "version": 3
   },
   "file_extension": ".py",
   "mimetype": "text/x-python",
   "name": "python",
   "nbconvert_exporter": "python",
   "pygments_lexer": "ipython3",
   "version": "3.7.1"
  }
 },
 "nbformat": 4,
 "nbformat_minor": 1
}
