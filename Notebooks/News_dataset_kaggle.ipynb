{
 "cells": [
  {
   "cell_type": "code",
   "execution_count": 0,
   "metadata": {
    "colab": {
     "base_uri": "https://localhost:8080/",
     "height": 35
    },
    "colab_type": "code",
    "id": "qEMbEEDBttS3",
    "outputId": "11e78d0c-07d4-41ad-9241-fa9fbeef2acc"
   },
   "outputs": [
    {
     "name": "stdout",
     "output_type": "stream",
     "text": [
      "Drive already mounted at /content/drive; to attempt to forcibly remount, call drive.mount(\"/content/drive\", force_remount=True).\n"
     ]
    }
   ],
   "source": [
    "from google.colab import drive\n",
    "drive.mount('/content/drive')"
   ]
  },
  {
   "cell_type": "code",
   "execution_count": 0,
   "metadata": {
    "colab": {},
    "colab_type": "code",
    "id": "qMzhm_4Jug-P"
   },
   "outputs": [],
   "source": [
    "import numpy as np\n",
    "import pandas as pd\n",
    "import matplotlib.pyplot as plt\n",
    "from keras.models import Model\n",
    "from keras import optimizers\n",
    "from keras.layers import Dense, Input, Dropout, LSTM, Activation\n",
    "from keras.models import Sequential\n",
    "from keras.layers.convolutional import Conv1D\n",
    "from keras.layers.convolutional import MaxPooling1D\n",
    "from keras.regularizers import l1\n",
    "from keras.callbacks import EarlyStopping\n",
    "from sklearn.model_selection import train_test_split\n",
    "from sklearn.metrics import confusion_matrix\n",
    "from sklearn.metrics import classification_report\n",
    "np.random.seed(125)\n"
   ]
  },
  {
   "cell_type": "markdown",
   "metadata": {
    "colab_type": "text",
    "id": "famE0ey-8cQn"
   },
   "source": [
    "**Embeddings from google sentence encoder**"
   ]
  },
  {
   "cell_type": "code",
   "execution_count": 0,
   "metadata": {
    "colab": {},
    "colab_type": "code",
    "id": "3OPy9rs5ytwr"
   },
   "outputs": [],
   "source": [
    "# Functions\n",
    "def convert_to_one_hot(Y, C):\n",
    "  Y = np.eye(C)[Y.reshape(-1)]\n",
    "  return Y\n",
    "\n",
    "# for padding\n",
    "def fix(arr,pad_s = 50):\n",
    "  dif = pad_s - arr.shape[0]\n",
    "  temp = np.concatenate((arr, np.zeros((dif,512))))\n",
    "  return temp\n",
    "\n",
    "def acc_plot(history):\n",
    "  # summarize history for accuracy\n",
    "  print('========='*10)\n",
    "  plt.plot(history.history['acc'])\n",
    "  plt.plot(history.history['val_acc'])\n",
    "  plt.title('model accuracy')\n",
    "  plt.ylabel('accuracy')\n",
    "  plt.xlabel('epoch')\n",
    "  plt.legend(['train', 'test'], loc='upper left')\n",
    "  plt.show()\n",
    "\n",
    "def loss_plot(history):\n",
    "  # summarize history for loss\n",
    "  print('========='*10)\n",
    "  plt.plot(history.history['loss'])\n",
    "  plt.plot(history.history['val_loss'])\n",
    "  plt.title('model loss')\n",
    "  plt.ylabel('loss')\n",
    "  plt.xlabel('epoch')\n",
    "  plt.legend(['train', 'test'], loc='upper left')\n",
    "  plt.show()\n"
   ]
  },
  {
   "cell_type": "markdown",
   "metadata": {
    "colab_type": "text",
    "id": "UNHhm43OC8o1"
   },
   "source": [
    "### Dataset Preview"
   ]
  },
  {
   "cell_type": "code",
   "execution_count": 5,
   "metadata": {
    "colab": {
     "base_uri": "https://localhost:8080/",
     "height": 198
    },
    "colab_type": "code",
    "id": "bgp90xq4C_i3",
    "outputId": "0282fbff-4e7a-4ae9-dccb-27b38c43bd11"
   },
   "outputs": [
    {
     "data": {
      "text/html": [
       "<div>\n",
       "<style scoped>\n",
       "    .dataframe tbody tr th:only-of-type {\n",
       "        vertical-align: middle;\n",
       "    }\n",
       "\n",
       "    .dataframe tbody tr th {\n",
       "        vertical-align: top;\n",
       "    }\n",
       "\n",
       "    .dataframe thead th {\n",
       "        text-align: right;\n",
       "    }\n",
       "</style>\n",
       "<table border=\"1\" class=\"dataframe\">\n",
       "  <thead>\n",
       "    <tr style=\"text-align: right;\">\n",
       "      <th></th>\n",
       "      <th>id</th>\n",
       "      <th>title</th>\n",
       "      <th>author</th>\n",
       "      <th>text</th>\n",
       "      <th>label</th>\n",
       "    </tr>\n",
       "  </thead>\n",
       "  <tbody>\n",
       "    <tr>\n",
       "      <th>0</th>\n",
       "      <td>0</td>\n",
       "      <td>House Dem Aide: We Didn’t Even See Comey’s Let...</td>\n",
       "      <td>Darrell Lucus</td>\n",
       "      <td>House Dem Aide: We Didn’t Even See Comey’s Let...</td>\n",
       "      <td>1</td>\n",
       "    </tr>\n",
       "    <tr>\n",
       "      <th>1</th>\n",
       "      <td>1</td>\n",
       "      <td>FLYNN: Hillary Clinton, Big Woman on Campus - ...</td>\n",
       "      <td>Daniel J. Flynn</td>\n",
       "      <td>Ever get the feeling your life circles the rou...</td>\n",
       "      <td>0</td>\n",
       "    </tr>\n",
       "    <tr>\n",
       "      <th>2</th>\n",
       "      <td>2</td>\n",
       "      <td>Why the Truth Might Get You Fired</td>\n",
       "      <td>Consortiumnews.com</td>\n",
       "      <td>Why the Truth Might Get You Fired October 29, ...</td>\n",
       "      <td>1</td>\n",
       "    </tr>\n",
       "    <tr>\n",
       "      <th>3</th>\n",
       "      <td>3</td>\n",
       "      <td>15 Civilians Killed In Single US Airstrike Hav...</td>\n",
       "      <td>Jessica Purkiss</td>\n",
       "      <td>Videos 15 Civilians Killed In Single US Airstr...</td>\n",
       "      <td>1</td>\n",
       "    </tr>\n",
       "    <tr>\n",
       "      <th>4</th>\n",
       "      <td>4</td>\n",
       "      <td>Iranian woman jailed for fictional unpublished...</td>\n",
       "      <td>Howard Portnoy</td>\n",
       "      <td>Print \\nAn Iranian woman has been sentenced to...</td>\n",
       "      <td>1</td>\n",
       "    </tr>\n",
       "  </tbody>\n",
       "</table>\n",
       "</div>"
      ],
      "text/plain": [
       "   id                                              title              author  \\\n",
       "0   0  House Dem Aide: We Didn’t Even See Comey’s Let...       Darrell Lucus   \n",
       "1   1  FLYNN: Hillary Clinton, Big Woman on Campus - ...     Daniel J. Flynn   \n",
       "2   2                  Why the Truth Might Get You Fired  Consortiumnews.com   \n",
       "3   3  15 Civilians Killed In Single US Airstrike Hav...     Jessica Purkiss   \n",
       "4   4  Iranian woman jailed for fictional unpublished...      Howard Portnoy   \n",
       "\n",
       "                                                text  label  \n",
       "0  House Dem Aide: We Didn’t Even See Comey’s Let...      1  \n",
       "1  Ever get the feeling your life circles the rou...      0  \n",
       "2  Why the Truth Might Get You Fired October 29, ...      1  \n",
       "3  Videos 15 Civilians Killed In Single US Airstr...      1  \n",
       "4  Print \\nAn Iranian woman has been sentenced to...      1  "
      ]
     },
     "execution_count": 5,
     "metadata": {
      "tags": []
     },
     "output_type": "execute_result"
    }
   ],
   "source": [
    "df = pd.read_csv('drive/My Drive/CSV/train.csv'\n",
    "df.head()"
   ]
  },
  {
   "cell_type": "code",
   "execution_count": 11,
   "metadata": {
    "colab": {
     "base_uri": "https://localhost:8080/",
     "height": 54
    },
    "colab_type": "code",
    "id": "CcOwe-axJoWt",
    "outputId": "64e6a447-66ed-45ca-ca2a-d12997547d08"
   },
   "outputs": [
    {
     "name": "stdout",
     "output_type": "stream",
     "text": [
      "Real\tFake\n",
      "10387\t10413\n"
     ]
    }
   ],
   "source": [
    "print('Real\\tFake\\n{}\\t{}'.format(df['label'].value_counts()[0],df['label'].value_counts()[1]))"
   ]
  },
  {
   "cell_type": "code",
   "execution_count": 0,
   "metadata": {
    "colab": {
     "base_uri": "https://localhost:8080/",
     "height": 72
    },
    "colab_type": "code",
    "id": "Ehf6Q6-dv6M4",
    "outputId": "141ffa07-26ad-4606-dc4f-404159b4f3c7"
   },
   "outputs": [
    {
     "name": "stdout",
     "output_type": "stream",
     "text": [
      "Type\tCounts\n",
      "Real\t6200\n",
      "Fake\t6200\n"
     ]
    }
   ],
   "source": [
    "# Article Embeddings made from Google Universal Sentence Encoder\n",
    "real_art = np.load('drive/My Drive/CSV/emb/kaggle_dataset/k_real_art_emb.npy')\n",
    "fake_art = np.load('drive/My Drive/CSV/emb/kaggle_dataset/k_fake_art_emb.npy')\n",
    "data = np.concatenate((real_art,fake_art),axis=0)\n",
    "print('Type\\tCounts\\n{}\\t{}\\n{}\\t{}'.format('Real',len(real_art),'Fake',len(fake_art)))"
   ]
  },
  {
   "cell_type": "code",
   "execution_count": 0,
   "metadata": {
    "colab": {
     "base_uri": "https://localhost:8080/",
     "height": 35
    },
    "colab_type": "code",
    "id": "GYCMbMBAHaGX",
    "outputId": "3ae1e742-971a-4b48-86c1-bba0a423a77d"
   },
   "outputs": [
    {
     "data": {
      "text/plain": [
       "(12400, 50, 512)"
      ]
     },
     "execution_count": 12,
     "metadata": {
      "tags": []
     },
     "output_type": "execute_result"
    }
   ],
   "source": [
    "# Contains Total of 12400 articles \n",
    "# Each article has maximum of 50 Sentences (which are padded if less)\n",
    "# Each sentence is represented by a vector of size (512,) \n",
    "data.shape"
   ]
  },
  {
   "cell_type": "code",
   "execution_count": 0,
   "metadata": {
    "colab": {
     "base_uri": "https://localhost:8080/",
     "height": 54
    },
    "colab_type": "code",
    "id": "-loAYJxNCfQh",
    "outputId": "0d5cf195-87dd-4f3b-d8e7-c83b06d7c6e5"
   },
   "outputs": [
    {
     "name": "stdout",
     "output_type": "stream",
     "text": [
      "[1. 0.]\n",
      "[0. 1.]\n"
     ]
    }
   ],
   "source": [
    "# One hot representation of Labels\n",
    "Y = convert_to_one_hot(np.append(np.zeros((6200,),dtype=int),np.ones((6200,),dtype=int)),2) # reliable [1,0] fake [0,1]\n",
    "print(Y[0],Y[6900],sep='\\n')"
   ]
  },
  {
   "cell_type": "markdown",
   "metadata": {
    "colab_type": "text",
    "id": "0Nzdhk5rEzGa"
   },
   "source": [
    "### ** Train - Test**"
   ]
  },
  {
   "cell_type": "code",
   "execution_count": 0,
   "metadata": {
    "colab": {},
    "colab_type": "code",
    "id": "1USpdHkSFzgd"
   },
   "outputs": [],
   "source": [
    "# Train Test\n",
    "xTrain, xTest, yTrain, yTest = train_test_split(data, Y, test_size = 0.2, random_state = 125)"
   ]
  },
  {
   "cell_type": "code",
   "execution_count": 0,
   "metadata": {
    "colab": {
     "base_uri": "https://localhost:8080/",
     "height": 108
    },
    "colab_type": "code",
    "id": "0GvPF6cgjuwJ",
    "outputId": "7adf7741-e842-4ae8-85a3-a5763d5cd648"
   },
   "outputs": [
    {
     "data": {
      "text/plain": [
       "array([[1., 0.],\n",
       "       [1., 0.],\n",
       "       [1., 0.],\n",
       "       [0., 1.],\n",
       "       [1., 0.]])"
      ]
     },
     "execution_count": 17,
     "metadata": {
      "tags": []
     },
     "output_type": "execute_result"
    }
   ],
   "source": [
    "\n",
    "# First 5 labels \n",
    "yTest[:5]"
   ]
  },
  {
   "cell_type": "code",
   "execution_count": 0,
   "metadata": {
    "colab": {
     "base_uri": "https://localhost:8080/",
     "height": 35
    },
    "colab_type": "code",
    "id": "FkJo_PNeHgJt",
    "outputId": "cc27ac61-bb1f-4ac2-d688-f863f6cfc77c"
   },
   "outputs": [
    {
     "name": "stdout",
     "output_type": "stream",
     "text": [
      "Train Size - 9920, Test size - 2480 \n"
     ]
    }
   ],
   "source": [
    "print(\"Train Size - {}, Test size - {} \".format(yTrain.shape[0],yTest.shape[0]))"
   ]
  },
  {
   "cell_type": "code",
   "execution_count": 0,
   "metadata": {
    "colab": {
     "base_uri": "https://localhost:8080/",
     "height": 35
    },
    "colab_type": "code",
    "id": "g-I9elJyIQux",
    "outputId": "5905053d-56eb-47d9-fb6c-2630d270ae9c"
   },
   "outputs": [
    {
     "data": {
      "text/plain": [
       "(8878, 50, 512)"
      ]
     },
     "execution_count": 11,
     "metadata": {
      "tags": []
     },
     "output_type": "execute_result"
    }
   ],
   "source": [
    "xTrain.shape"
   ]
  },
  {
   "cell_type": "code",
   "execution_count": 0,
   "metadata": {
    "colab": {
     "base_uri": "https://localhost:8080/",
     "height": 35
    },
    "colab_type": "code",
    "id": "VOXr367p_-JZ",
    "outputId": "bd759d40-641e-42e3-85df-81d3b3d88bb8"
   },
   "outputs": [
    {
     "data": {
      "text/plain": [
       "(array([0., 1.]), array([1245, 1235]))"
      ]
     },
     "execution_count": 33,
     "metadata": {
      "tags": []
     },
     "output_type": "execute_result"
    }
   ],
   "source": [
    "unique, counts = np.unique(yTest[:,0], return_counts=True)\n",
    "unique, counts"
   ]
  },
  {
   "cell_type": "code",
   "execution_count": 0,
   "metadata": {
    "colab": {},
    "colab_type": "code",
    "id": "gx3PWcvO3Q4V"
   },
   "outputs": [],
   "source": [
    "# Will be used in callbacks in keras model.fit\n",
    "es = EarlyStopping(monitor='val_loss', mode='min', verbose=1, patience=2)"
   ]
  },
  {
   "cell_type": "markdown",
   "metadata": {
    "colab_type": "text",
    "id": "mfAnt-grIxQs"
   },
   "source": [
    "## **Model v1**\n",
    "Simple Single Layer LSTM followed by a dense layer.\n",
    "- LSTM layer takes input a 3d vector which has 50 timesteps, 512 Features, 1 or more samples\n",
    "- LSTM layer is the input layer in this case\n",
    "- Embeddings are directly fed into it."
   ]
  },
  {
   "cell_type": "code",
   "execution_count": 0,
   "metadata": {
    "colab": {
     "base_uri": "https://localhost:8080/",
     "height": 272
    },
    "colab_type": "code",
    "id": "bunYETa-Iw5W",
    "outputId": "b0f8f3b7-385f-4c67-ad9e-ecb9469f27b0"
   },
   "outputs": [
    {
     "name": "stdout",
     "output_type": "stream",
     "text": [
      "_________________________________________________________________\n",
      "Layer (type)                 Output Shape              Param #   \n",
      "=================================================================\n",
      "lstm_1 (LSTM)                (None, 256)               787456    \n",
      "_________________________________________________________________\n",
      "dropout_1 (Dropout)          (None, 256)               0         \n",
      "_________________________________________________________________\n",
      "dense_1 (Dense)              (None, 2)                 514       \n",
      "=================================================================\n",
      "Total params: 787,970\n",
      "Trainable params: 787,970\n",
      "Non-trainable params: 0\n",
      "_________________________________________________________________\n",
      "None\n"
     ]
    }
   ],
   "source": [
    "modelv1 = Sequential()\n",
    "modelv1.add(LSTM(256, input_shape=(50, 512), return_sequences=False,activity_regularizer=l1(0.0001)))\n",
    "modelv1.add(Dropout(0.5))\n",
    "modelv1.add(Dense(2, activation='softmax'))\n",
    "modelv1.compile(loss='categorical_crossentropy', optimizer='adam', metrics=['accuracy'])\n",
    "print(modelv1.summary())"
   ]
  },
  {
   "cell_type": "code",
   "execution_count": 0,
   "metadata": {
    "colab": {
     "base_uri": "https://localhost:8080/",
     "height": 217
    },
    "colab_type": "code",
    "id": "dBm95v8yIwKN",
    "outputId": "7e1b2f6f-d251-44ba-8420-ac1ad24d80d8"
   },
   "outputs": [
    {
     "name": "stdout",
     "output_type": "stream",
     "text": [
      "Train on 9920 samples, validate on 2480 samples\n",
      "Epoch 1/5\n",
      "9920/9920 [==============================] - 27s 3ms/step - loss: 0.4906 - acc: 0.7877 - val_loss: 0.4074 - val_acc: 0.8496\n",
      "Epoch 2/5\n",
      "9920/9920 [==============================] - 24s 2ms/step - loss: 0.3560 - acc: 0.8742 - val_loss: 0.3779 - val_acc: 0.8516\n",
      "Epoch 3/5\n",
      "9920/9920 [==============================] - 24s 2ms/step - loss: 0.3045 - acc: 0.8944 - val_loss: 0.3097 - val_acc: 0.8948\n",
      "Epoch 4/5\n",
      "9920/9920 [==============================] - 24s 2ms/step - loss: 0.2701 - acc: 0.9098 - val_loss: 0.2707 - val_acc: 0.9056\n",
      "Epoch 5/5\n",
      "9920/9920 [==============================] - 24s 2ms/step - loss: 0.2336 - acc: 0.9253 - val_loss: 0.2396 - val_acc: 0.9250\n"
     ]
    }
   ],
   "source": [
    "history_v1 = modelv1.fit(xTrain, yTrain, epochs=5, validation_data=(xTest, yTest), batch_size=64,validation_split=0.2, callbacks = [es])"
   ]
  },
  {
   "cell_type": "code",
   "execution_count": 0,
   "metadata": {
    "colab": {
     "base_uri": "https://localhost:8080/",
     "height": 72
    },
    "colab_type": "code",
    "id": "q-UO_OJmIvzU",
    "outputId": "683524c5-7023-416c-bea4-a2e1e59d79ed"
   },
   "outputs": [
    {
     "name": "stdout",
     "output_type": "stream",
     "text": [
      "2480/2480 [==============================] - 5s 2ms/step\n",
      "\n",
      "Test accuracy =  0.925\n"
     ]
    }
   ],
   "source": [
    "loss, acc = modelv1.evaluate(xTest, yTest)\n",
    "print()\n",
    "print(\"Test accuracy = \", acc)"
   ]
  },
  {
   "cell_type": "markdown",
   "metadata": {
    "colab_type": "text",
    "id": "hyKCgyxXQGNS"
   },
   "source": [
    "## **Model v2**\n",
    "- Double layered LSTM with dropout and dense.\n"
   ]
  },
  {
   "cell_type": "code",
   "execution_count": 0,
   "metadata": {
    "colab": {
     "base_uri": "https://localhost:8080/",
     "height": 345
    },
    "colab_type": "code",
    "id": "urgpoHawLB1M",
    "outputId": "f0db1618-f4a5-4c3a-9325-2c3c243ba183"
   },
   "outputs": [
    {
     "name": "stdout",
     "output_type": "stream",
     "text": [
      "_________________________________________________________________\n",
      "Layer (type)                 Output Shape              Param #   \n",
      "=================================================================\n",
      "lstm_2 (LSTM)                (None, 50, 256)           787456    \n",
      "_________________________________________________________________\n",
      "dropout_2 (Dropout)          (None, 50, 256)           0         \n",
      "_________________________________________________________________\n",
      "lstm_3 (LSTM)                (None, 256)               525312    \n",
      "_________________________________________________________________\n",
      "dropout_3 (Dropout)          (None, 256)               0         \n",
      "_________________________________________________________________\n",
      "dense_2 (Dense)              (None, 2)                 514       \n",
      "=================================================================\n",
      "Total params: 1,313,282\n",
      "Trainable params: 1,313,282\n",
      "Non-trainable params: 0\n",
      "_________________________________________________________________\n",
      "None\n"
     ]
    }
   ],
   "source": [
    "# MODEl v2\n",
    "# Change number of units in LSTM \n",
    "modelv2 = Sequential()\n",
    "modelv2.add(LSTM(256, input_shape=(50, 512), return_sequences=True))\n",
    "modelv2.add(Dropout(0.5)) # change to see different results\n",
    "modelv2.add(LSTM(256, input_shape=(50, 512), return_sequences=False,activity_regularizer=l1(0.0001)))\n",
    "modelv2.add(Dropout(0.5))\n",
    "modelv2.add(Dense(2, activation='softmax')) # check softmax or other function\n",
    "adam = optimizers.Adam(lr=0.001, beta_1=0.9, beta_2=0.999, epsilon=1e-8, decay=0.0, amsgrad=False)\n",
    "#adamax = optimizers.Adamax(lr=0.002, beta_1=0.9, beta_2=0.999, epsilon=1e-8, decay=0.0)\n",
    "modelv2.compile(loss='categorical_crossentropy', optimizer=adam, metrics=['accuracy'])\n",
    "print(modelv2.summary())\n"
   ]
  },
  {
   "cell_type": "code",
   "execution_count": 0,
   "metadata": {
    "colab": {
     "base_uri": "https://localhost:8080/",
     "height": 254
    },
    "colab_type": "code",
    "id": "JMBkZIqoRpNF",
    "outputId": "b93c6a55-bb5f-469c-96a5-0e013a4d78da"
   },
   "outputs": [
    {
     "name": "stdout",
     "output_type": "stream",
     "text": [
      "Train on 9920 samples, validate on 2480 samples\n",
      "Epoch 1/5\n",
      "9920/9920 [==============================] - 48s 5ms/step - loss: 0.4801 - acc: 0.8000 - val_loss: 0.4083 - val_acc: 0.8355\n",
      "Epoch 2/5\n",
      "9920/9920 [==============================] - 46s 5ms/step - loss: 0.3632 - acc: 0.8703 - val_loss: 0.3276 - val_acc: 0.8879\n",
      "Epoch 3/5\n",
      "9920/9920 [==============================] - 46s 5ms/step - loss: 0.3000 - acc: 0.8988 - val_loss: 0.3182 - val_acc: 0.8968\n",
      "Epoch 4/5\n",
      "9920/9920 [==============================] - 46s 5ms/step - loss: 0.2652 - acc: 0.9110 - val_loss: 0.2579 - val_acc: 0.9133\n",
      "Epoch 5/5\n",
      "9920/9920 [==============================] - 46s 5ms/step - loss: 0.2344 - acc: 0.9252 - val_loss: 0.2498 - val_acc: 0.9190\n",
      "CPU times: user 4min 48s, sys: 35.7 s, total: 5min 24s\n",
      "Wall time: 3min 55s\n"
     ]
    }
   ],
   "source": [
    "%%time\n",
    "historyv2 = modelv2.fit(xTrain, yTrain, epochs=5, validation_data=(xTest, yTest), validation_split=0.2, batch_size=64)"
   ]
  },
  {
   "cell_type": "code",
   "execution_count": 0,
   "metadata": {
    "colab": {
     "base_uri": "https://localhost:8080/",
     "height": 90
    },
    "colab_type": "code",
    "id": "IFbYdDi-N-RH",
    "outputId": "d6fa332d-3b53-405b-95e5-aec9c13771e6"
   },
   "outputs": [
    {
     "name": "stdout",
     "output_type": "stream",
     "text": [
      "2480/2480 [==============================] - 9s 4ms/step\n",
      "\n",
      "Test Accuracy : 0.9189516129032258\n",
      "Loss : 0.23113962344584926\n"
     ]
    }
   ],
   "source": [
    "loss, acc = modelv2.evaluate(xTest, yTest)\n",
    "print()\n",
    "print('Test Accuracy : {}\\nLoss : {}'.format(acc,loss))"
   ]
  },
  {
   "cell_type": "markdown",
   "metadata": {
    "colab_type": "text",
    "id": "MhhmOJrFUT2k"
   },
   "source": [
    "## **Model v3**\n",
    "- Added conv layer on top of LSTM stack. layer 1 learns more spatial relationship. Architecture after this is same as model v1."
   ]
  },
  {
   "cell_type": "code",
   "execution_count": 0,
   "metadata": {
    "colab": {
     "base_uri": "https://localhost:8080/",
     "height": 345
    },
    "colab_type": "code",
    "id": "qZczKDHBUGes",
    "outputId": "b9d9dbf2-c83f-400e-9c19-b55dbee17e6c"
   },
   "outputs": [
    {
     "name": "stdout",
     "output_type": "stream",
     "text": [
      "_________________________________________________________________\n",
      "Layer (type)                 Output Shape              Param #   \n",
      "=================================================================\n",
      "conv1d_1 (Conv1D)            (None, 50, 512)           786944    \n",
      "_________________________________________________________________\n",
      "max_pooling1d_1 (MaxPooling1 (None, 25, 512)           0         \n",
      "_________________________________________________________________\n",
      "lstm_4 (LSTM)                (None, 256)               787456    \n",
      "_________________________________________________________________\n",
      "dropout_4 (Dropout)          (None, 256)               0         \n",
      "_________________________________________________________________\n",
      "dense_3 (Dense)              (None, 2)                 514       \n",
      "=================================================================\n",
      "Total params: 1,574,914\n",
      "Trainable params: 1,574,914\n",
      "Non-trainable params: 0\n",
      "_________________________________________________________________\n",
      "None\n"
     ]
    }
   ],
   "source": [
    "modelv3 = Sequential()\n",
    "modelv3.add(Conv1D(input_shape=(50, 512),filters=512, kernel_size=3, padding='same', activation='relu'))\n",
    "modelv3.add(MaxPooling1D(pool_size=2))\n",
    "modelv3.add(LSTM(256, input_shape=(50, 512), return_sequences=False,activity_regularizer=l1(0.0001)))\n",
    "modelv3.add(Dropout(0.5))\n",
    "modelv3.add(Dense(2, activation='softmax'))\n",
    "modelv3.compile(loss='categorical_crossentropy', optimizer='adam', metrics=['accuracy'])\n",
    "print(modelv3.summary())\n",
    "\n",
    "\n"
   ]
  },
  {
   "cell_type": "code",
   "execution_count": 0,
   "metadata": {
    "colab": {
     "base_uri": "https://localhost:8080/",
     "height": 254
    },
    "colab_type": "code",
    "id": "lsj3JT6PXdOP",
    "outputId": "46ddb2f5-3aba-4ecc-a823-8626ac601ef5"
   },
   "outputs": [
    {
     "name": "stdout",
     "output_type": "stream",
     "text": [
      "Train on 9920 samples, validate on 2480 samples\n",
      "Epoch 1/5\n",
      "9920/9920 [==============================] - 20s 2ms/step - loss: 0.3910 - acc: 0.8521 - val_loss: 0.2816 - val_acc: 0.9089\n",
      "Epoch 2/5\n",
      "9920/9920 [==============================] - 16s 2ms/step - loss: 0.2231 - acc: 0.9389 - val_loss: 0.2317 - val_acc: 0.9294\n",
      "Epoch 3/5\n",
      "9920/9920 [==============================] - 16s 2ms/step - loss: 0.1794 - acc: 0.9556 - val_loss: 0.2350 - val_acc: 0.9266\n",
      "Epoch 4/5\n",
      "9920/9920 [==============================] - 16s 2ms/step - loss: 0.1276 - acc: 0.9734 - val_loss: 0.2265 - val_acc: 0.9331\n",
      "Epoch 5/5\n",
      "9920/9920 [==============================] - 16s 2ms/step - loss: 0.1025 - acc: 0.9809 - val_loss: 0.1773 - val_acc: 0.9476\n",
      "CPU times: user 1min 34s, sys: 12.7 s, total: 1min 46s\n",
      "Wall time: 1min 25s\n"
     ]
    }
   ],
   "source": [
    "%%time\n",
    "historyv3 = modelv3.fit(xTrain, yTrain, epochs=5, validation_data=(xTest, yTest), batch_size=64, validation_split=0.2, callbacks = [es])"
   ]
  },
  {
   "cell_type": "code",
   "execution_count": 0,
   "metadata": {
    "colab": {
     "base_uri": "https://localhost:8080/",
     "height": 90
    },
    "colab_type": "code",
    "id": "dll10w4rXwuq",
    "outputId": "e4239dc4-8c77-44c1-a608-e491aed7e937"
   },
   "outputs": [
    {
     "name": "stdout",
     "output_type": "stream",
     "text": [
      "2480/2480 [==============================] - 3s 1ms/step\n",
      "\n",
      "Test accuracy : 0.9475806451612904 \n",
      "Loss : 0.15891707594836912\n"
     ]
    }
   ],
   "source": [
    "loss, acc = modelv3.evaluate(xTest, yTest)\n",
    "print()\n",
    "print('Test accuracy : {} \\nLoss : {}'.format(acc,loss))"
   ]
  },
  {
   "cell_type": "markdown",
   "metadata": {
    "colab_type": "text",
    "id": "FtxpGOeiZH_E"
   },
   "source": [
    "## **Model v4**\n",
    "\n",
    "- Added conv layer as input layer.. after which RNN.. v2"
   ]
  },
  {
   "cell_type": "code",
   "execution_count": 0,
   "metadata": {
    "colab": {
     "base_uri": "https://localhost:8080/",
     "height": 417
    },
    "colab_type": "code",
    "id": "VdDRa3SIYRxX",
    "outputId": "1e83bf99-767c-47a0-b394-927b3d589e95"
   },
   "outputs": [
    {
     "name": "stdout",
     "output_type": "stream",
     "text": [
      "_________________________________________________________________\n",
      "Layer (type)                 Output Shape              Param #   \n",
      "=================================================================\n",
      "conv1d_2 (Conv1D)            (None, 50, 512)           786944    \n",
      "_________________________________________________________________\n",
      "max_pooling1d_2 (MaxPooling1 (None, 25, 512)           0         \n",
      "_________________________________________________________________\n",
      "lstm_5 (LSTM)                (None, 25, 512)           2099200   \n",
      "_________________________________________________________________\n",
      "dropout_5 (Dropout)          (None, 25, 512)           0         \n",
      "_________________________________________________________________\n",
      "lstm_6 (LSTM)                (None, 512)               2099200   \n",
      "_________________________________________________________________\n",
      "dropout_6 (Dropout)          (None, 512)               0         \n",
      "_________________________________________________________________\n",
      "dense_4 (Dense)              (None, 2)                 1026      \n",
      "=================================================================\n",
      "Total params: 4,986,370\n",
      "Trainable params: 4,986,370\n",
      "Non-trainable params: 0\n",
      "_________________________________________________________________\n",
      "None\n"
     ]
    }
   ],
   "source": [
    "modelv4 = Sequential()\n",
    "modelv4.add(Conv1D(input_shape=(50, 512),filters=512, kernel_size=3, padding='same', activation='relu'))\n",
    "modelv4.add(MaxPooling1D(pool_size=2))\n",
    "modelv4.add(LSTM(512, input_shape=(50, 512), return_sequences=True))\n",
    "modelv4.add(Dropout(0.5)) # change to see different results\n",
    "modelv4.add(LSTM(512, input_shape=(50, 512), return_sequences=False, activity_regularizer=l1(0.0001)))\n",
    "modelv4.add(Dropout(0.5))\n",
    "adam = optimizers.Adam(lr=0.001, beta_1=0.9, beta_2=0.999, epsilon=1e-8, decay=0.0, amsgrad=False)\n",
    "#adamax = optimizers.Adamax(lr=0.002, beta_1=0.9, beta_2=0.999, epsilon=1e-8, decay=0.0)\n",
    "modelv4.add(Dense(2, activation='softmax')) # check softmax or other function\n",
    "modelv4.compile(loss='categorical_crossentropy', optimizer= adam, metrics=['accuracy'])\n",
    "print(modelv4.summary())\n"
   ]
  },
  {
   "cell_type": "code",
   "execution_count": 0,
   "metadata": {
    "colab": {
     "base_uri": "https://localhost:8080/",
     "height": 254
    },
    "colab_type": "code",
    "id": "cuEs5YIRaS8r",
    "outputId": "695e2711-4186-4b9b-a759-e87fa8a522b6"
   },
   "outputs": [
    {
     "name": "stdout",
     "output_type": "stream",
     "text": [
      "Train on 9920 samples, validate on 2480 samples\n",
      "Epoch 1/5\n",
      "9920/9920 [==============================] - 33s 3ms/step - loss: 0.3805 - acc: 0.8714 - val_loss: 0.2579 - val_acc: 0.9274\n",
      "Epoch 2/5\n",
      "9920/9920 [==============================] - 30s 3ms/step - loss: 0.2277 - acc: 0.9390 - val_loss: 0.2267 - val_acc: 0.9258\n",
      "Epoch 3/5\n",
      "9920/9920 [==============================] - 30s 3ms/step - loss: 0.1778 - acc: 0.9563 - val_loss: 0.1891 - val_acc: 0.9440\n",
      "Epoch 4/5\n",
      "9920/9920 [==============================] - 30s 3ms/step - loss: 0.1319 - acc: 0.9725 - val_loss: 0.2036 - val_acc: 0.9339\n",
      "Epoch 5/5\n",
      "9920/9920 [==============================] - 30s 3ms/step - loss: 0.1080 - acc: 0.9788 - val_loss: 0.1706 - val_acc: 0.9524\n",
      "CPU times: user 3min, sys: 26.1 s, total: 3min 26s\n",
      "Wall time: 2min 37s\n"
     ]
    }
   ],
   "source": [
    "%%time\n",
    "historyv4 = modelv4.fit(xTrain, yTrain, epochs=5, validation_data=(xTest, yTest), batch_size=64, validation_split=0.2, callbacks = [es])"
   ]
  },
  {
   "cell_type": "code",
   "execution_count": 0,
   "metadata": {
    "colab": {
     "base_uri": "https://localhost:8080/",
     "height": 90
    },
    "colab_type": "code",
    "id": "zrf2r1G_adqg",
    "outputId": "86344afd-68f3-40f7-b7a7-fe90203286a2"
   },
   "outputs": [
    {
     "name": "stdout",
     "output_type": "stream",
     "text": [
      "2480/2480 [==============================] - 5s 2ms/step\n",
      "\n",
      "Test accuracy = 0.9524193548387097 \n",
      " loss - 0.15076583123976184\n"
     ]
    }
   ],
   "source": [
    "loss, acc = modelv4.evaluate(xTest, yTest)\n",
    "print()\n",
    "print('Test accuracy = {} \\n loss - {}'.format(acc,loss))"
   ]
  },
  {
   "cell_type": "markdown",
   "metadata": {
    "colab_type": "text",
    "id": "5xlWt99m0G3q"
   },
   "source": [
    "## **Results and Evaluation**"
   ]
  },
  {
   "cell_type": "markdown",
   "metadata": {
    "colab_type": "text",
    "id": "AA9CKUfh2xzJ"
   },
   "source": [
    "### Modelv1"
   ]
  },
  {
   "cell_type": "code",
   "execution_count": 0,
   "metadata": {
    "colab": {
     "base_uri": "https://localhost:8080/",
     "height": 790
    },
    "colab_type": "code",
    "id": "MmiWuuoJ22fq",
    "outputId": "8dc7361c-422b-466f-c6c8-ac303037c947"
   },
   "outputs": [
    {
     "name": "stdout",
     "output_type": "stream",
     "text": [
      "==========================================================================================\n"
     ]
    },
    {
     "data": {
      "image/png": "[encoded data removed]",
      "text/plain": [
       "<matplotlib.figure.Figure at 0x7f0610360320>"
      ]
     },
     "metadata": {
      "tags": []
     },
     "output_type": "display_data"
    },
    {
     "name": "stdout",
     "output_type": "stream",
     "text": [
      "==========================================================================================\n"
     ]
    },
    {
     "data": {
      "image/png": "[encoded data removed]",
      "text/plain": [
       "<matplotlib.figure.Figure at 0x7f05fbfe37b8>"
      ]
     },
     "metadata": {
      "tags": []
     },
     "output_type": "display_data"
    },
    {
     "data": {
      "text/plain": [
       "(None, None)"
      ]
     },
     "execution_count": 48,
     "metadata": {
      "tags": []
     },
     "output_type": "execute_result"
    }
   ],
   "source": [
    "acc_plot(history_v1),loss_plot(history_v1)"
   ]
  },
  {
   "cell_type": "markdown",
   "metadata": {
    "colab_type": "text",
    "id": "ro_VRerL3Xzh"
   },
   "source": [
    "### Modelv2"
   ]
  },
  {
   "cell_type": "code",
   "execution_count": 0,
   "metadata": {
    "colab": {
     "base_uri": "https://localhost:8080/",
     "height": 790
    },
    "colab_type": "code",
    "id": "bys_Y5x_3X9b",
    "outputId": "60a6a230-e19d-42a0-81d5-52e3fa0e000a"
   },
   "outputs": [
    {
     "name": "stdout",
     "output_type": "stream",
     "text": [
      "==========================================================================================\n"
     ]
    },
    {
     "data": {
      "image/png": "[encoded data removed]",
      "text/plain": [
       "<matplotlib.figure.Figure at 0x7f061c5a8978>"
      ]
     },
     "metadata": {
      "tags": []
     },
     "output_type": "display_data"
    },
    {
     "name": "stdout",
     "output_type": "stream",
     "text": [
      "==========================================================================================\n"
     ]
    },
    {
     "data": {
      "image/png": "[encoded data removed]",
      "text/plain": [
       "<matplotlib.figure.Figure at 0x7f05fbfd92b0>"
      ]
     },
     "metadata": {
      "tags": []
     },
     "output_type": "display_data"
    },
    {
     "data": {
      "text/plain": [
       "(None, None)"
      ]
     },
     "execution_count": 49,
     "metadata": {
      "tags": []
     },
     "output_type": "execute_result"
    }
   ],
   "source": [
    "acc_plot(historyv2),loss_plot(historyv2)"
   ]
  },
  {
   "cell_type": "markdown",
   "metadata": {
    "colab_type": "text",
    "id": "ySCYOF173Xgk"
   },
   "source": [
    "### Modelv3"
   ]
  },
  {
   "cell_type": "code",
   "execution_count": 0,
   "metadata": {
    "colab": {
     "base_uri": "https://localhost:8080/",
     "height": 790
    },
    "colab_type": "code",
    "id": "JhyjHlxj3Xqr",
    "outputId": "db1e420e-b398-42d5-b531-05e7e6e6de8b"
   },
   "outputs": [
    {
     "name": "stdout",
     "output_type": "stream",
     "text": [
      "==========================================================================================\n"
     ]
    },
    {
     "data": {
      "image/png": "[encoded data removed]",
      "text/plain": [
       "<matplotlib.figure.Figure at 0x7f05fbe5f898>"
      ]
     },
     "metadata": {
      "tags": []
     },
     "output_type": "display_data"
    },
    {
     "name": "stdout",
     "output_type": "stream",
     "text": [
      "==========================================================================================\n"
     ]
    },
    {
     "data": {
      "image/png": "[encoded data removed]",
      "text/plain": [
       "<matplotlib.figure.Figure at 0x7f05fbde5a58>"
      ]
     },
     "metadata": {
      "tags": []
     },
     "output_type": "display_data"
    },
    {
     "data": {
      "text/plain": [
       "(None, None)"
      ]
     },
     "execution_count": 50,
     "metadata": {
      "tags": []
     },
     "output_type": "execute_result"
    }
   ],
   "source": [
    "acc_plot(historyv3),loss_plot(historyv3)"
   ]
  },
  {
   "cell_type": "markdown",
   "metadata": {
    "colab_type": "text",
    "id": "ZmzrXXpR3XFK"
   },
   "source": [
    "### Modelv4"
   ]
  },
  {
   "cell_type": "code",
   "execution_count": 0,
   "metadata": {
    "colab": {
     "base_uri": "https://localhost:8080/",
     "height": 790
    },
    "colab_type": "code",
    "id": "y0jGD9iJ3XTq",
    "outputId": "263dd365-a7b8-409e-9b61-a22411f61454"
   },
   "outputs": [
    {
     "name": "stdout",
     "output_type": "stream",
     "text": [
      "==========================================================================================\n"
     ]
    },
    {
     "data": {
      "image/png": "[encoded data removed]",
      "text/plain": [
       "<matplotlib.figure.Figure at 0x7f05fbd49be0>"
      ]
     },
     "metadata": {
      "tags": []
     },
     "output_type": "display_data"
    },
    {
     "name": "stdout",
     "output_type": "stream",
     "text": [
      "==========================================================================================\n"
     ]
    },
    {
     "data": {
      "image/png": "[encoded data removed]",
      "text/plain": [
       "<matplotlib.figure.Figure at 0x7f05fbe00cf8>"
      ]
     },
     "metadata": {
      "tags": []
     },
     "output_type": "display_data"
    },
    {
     "data": {
      "text/plain": [
       "(None, None)"
      ]
     },
     "execution_count": 51,
     "metadata": {
      "tags": []
     },
     "output_type": "execute_result"
    }
   ],
   "source": [
    "acc_plot(historyv4),loss_plot(historyv4)"
   ]
  },
  {
   "cell_type": "code",
   "execution_count": 0,
   "metadata": {
    "colab": {},
    "colab_type": "code",
    "id": "7zqDRPwg5SRe"
   },
   "outputs": [],
   "source": [
    "def model_eval(msg, model,test_data,test_labels):\n",
    "  print('Evaluation of: ',msg)\n",
    "  dash_length = len('Evaluation of Model')\n",
    "  print('---'*dash_length)\n",
    "  y_Pred = model.predict(test_data)\n",
    "  y_Pred = y_Pred[:,0] > 0.5\n",
    "  y_Test = test_labels[:,0] > 0.5\n",
    "  cm = confusion_matrix(y_Test, y_Pred)\n",
    "  print(cm)\n",
    "  print(classification_report(y_Test, y_Pred, target_names=['Real', 'Fake']))\n",
    "  print('---'*dash_length)"
   ]
  },
  {
   "cell_type": "code",
   "execution_count": 0,
   "metadata": {
    "colab": {
     "base_uri": "https://localhost:8080/",
     "height": 1035
    },
    "colab_type": "code",
    "id": "QS6Te96b7K6i",
    "outputId": "e49d2026-241d-4205-cac9-c3b66fdec704"
   },
   "outputs": [
    {
     "name": "stdout",
     "output_type": "stream",
     "text": [
      "Evaluation of:  Modelv1\n",
      "---------------------------------------------------------\n",
      "[[1142  103]\n",
      " [  83 1152]]\n",
      "              precision    recall  f1-score   support\n",
      "\n",
      "        Real       0.93      0.92      0.92      1245\n",
      "        Fake       0.92      0.93      0.93      1235\n",
      "\n",
      "   micro avg       0.93      0.93      0.93      2480\n",
      "   macro avg       0.93      0.93      0.92      2480\n",
      "weighted avg       0.93      0.93      0.92      2480\n",
      "\n",
      "---------------------------------------------------------\n",
      "Evaluation of:  Modelv2\n",
      "---------------------------------------------------------\n",
      "[[1162   83]\n",
      " [ 118 1117]]\n",
      "              precision    recall  f1-score   support\n",
      "\n",
      "        Real       0.91      0.93      0.92      1245\n",
      "        Fake       0.93      0.90      0.92      1235\n",
      "\n",
      "   micro avg       0.92      0.92      0.92      2480\n",
      "   macro avg       0.92      0.92      0.92      2480\n",
      "weighted avg       0.92      0.92      0.92      2480\n",
      "\n",
      "---------------------------------------------------------\n",
      "Evaluation of:  Modelv3\n",
      "---------------------------------------------------------\n",
      "[[1178   67]\n",
      " [  63 1172]]\n",
      "              precision    recall  f1-score   support\n",
      "\n",
      "        Real       0.95      0.95      0.95      1245\n",
      "        Fake       0.95      0.95      0.95      1235\n",
      "\n",
      "   micro avg       0.95      0.95      0.95      2480\n",
      "   macro avg       0.95      0.95      0.95      2480\n",
      "weighted avg       0.95      0.95      0.95      2480\n",
      "\n",
      "---------------------------------------------------------\n",
      "Evaluation of:  Modelv4\n",
      "---------------------------------------------------------\n",
      "[[1207   38]\n",
      " [  80 1155]]\n",
      "              precision    recall  f1-score   support\n",
      "\n",
      "        Real       0.94      0.97      0.95      1245\n",
      "        Fake       0.97      0.94      0.95      1235\n",
      "\n",
      "   micro avg       0.95      0.95      0.95      2480\n",
      "   macro avg       0.95      0.95      0.95      2480\n",
      "weighted avg       0.95      0.95      0.95      2480\n",
      "\n",
      "---------------------------------------------------------\n"
     ]
    }
   ],
   "source": [
    "model_eval('Modelv1',modelv1,xTest,yTest)\n",
    "model_eval('Modelv2',modelv2,xTest,yTest)\n",
    "model_eval('Modelv3',modelv3,xTest,yTest)\n",
    "model_eval('Modelv4',modelv4,xTest,yTest)"
   ]
  },
  {
   "cell_type": "markdown",
   "metadata": {
    "colab_type": "text",
    "id": "XNpEyr2_8uvl"
   },
   "source": [
    "# Generalization required.\n",
    "Work needed to be done to improve model performance."
   ]
  }
 ],
 "metadata": {
  "accelerator": "GPU",
  "colab": {
   "collapsed_sections": [],
   "name": "k_NET2.ipynb",
   "provenance": [],
   "version": "0.3.2"
  },
  "kernelspec": {
   "display_name": "Python 3",
   "language": "python",
   "name": "python3"
  },
  "language_info": {
   "codemirror_mode": {
    "name": "ipython",
    "version": 3
   },
   "file_extension": ".py",
   "mimetype": "text/x-python",
   "name": "python",
   "nbconvert_exporter": "python",
   "pygments_lexer": "ipython3",
   "version": "3.7.1"
  }
 },
 "nbformat": 4,
 "nbformat_minor": 1
}
