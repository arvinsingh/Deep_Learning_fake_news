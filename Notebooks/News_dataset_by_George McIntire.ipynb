{
 "cells": [
  {
   "cell_type": "code",
   "execution_count": 1,
   "metadata": {
    "colab": {
     "base_uri": "https://localhost:8080/",
     "height": 128
    },
    "colab_type": "code",
    "id": "qEMbEEDBttS3",
    "outputId": "e8c5c577-8249-4055-ee6e-a3c379ce9b2b"
   },
   "outputs": [
    {
     "name": "stdout",
     "output_type": "stream",
     "text": [
      "Go to this URL in a browser: https://accounts.google.com/o/oauth2/auth?client_id=947318989803-6bn6qk8qdgf4n4g3pfee6491hc0brc4i.apps.googleusercontent.com&redirect_uri=urn%3Aietf%3Awg%3Aoauth%3A2.0%3Aoob&scope=email%20https%3A%2F%2Fwww.googleapis.com%2Fauth%2Fdocs.test%20https%3A%2F%2Fwww.googleapis.com%2Fauth%2Fdrive%20https%3A%2F%2Fwww.googleapis.com%2Fauth%2Fdrive.photos.readonly%20https%3A%2F%2Fwww.googleapis.com%2Fauth%2Fpeopleapi.readonly&response_type=code\n",
      "\n",
      "Enter your authorization code:\n",
      "··········\n",
      "Mounted at /content/drive\n"
     ]
    }
   ],
   "source": [
    "from google.colab import drive\n",
    "drive.mount('/content/drive')"
   ]
  },
  {
   "cell_type": "code",
   "execution_count": 10,
   "metadata": {
    "colab": {
     "base_uri": "https://localhost:8080/",
     "height": 72
    },
    "colab_type": "code",
    "id": "qMzhm_4Jug-P",
    "outputId": "108159f1-3cb5-4235-f7f9-e8b9e2bedad1"
   },
   "outputs": [
    {
     "name": "stdout",
     "output_type": "stream",
     "text": [
      "[nltk_data] Downloading package punkt to /root/nltk_data...\n",
      "[nltk_data]   Unzipping tokenizers/punkt.zip.\n"
     ]
    },
    {
     "data": {
      "text/plain": [
       "True"
      ]
     },
     "execution_count": 10,
     "metadata": {
      "tags": []
     },
     "output_type": "execute_result"
    }
   ],
   "source": [
    "import numpy as np\n",
    "import pandas as pd\n",
    "import matplotlib.pyplot as plt\n",
    "from keras.models import Model\n",
    "from keras import optimizers\n",
    "from keras.layers import Dense, Input, Dropout, LSTM, Activation\n",
    "from keras.models import Sequential\n",
    "from keras.layers.convolutional import Conv1D\n",
    "from keras.layers.convolutional import MaxPooling1D\n",
    "from keras.regularizers import l1\n",
    "from keras.callbacks import EarlyStopping\n",
    "from sklearn.model_selection import train_test_split\n",
    "from sklearn.metrics import confusion_matrix\n",
    "from sklearn.metrics import classification_report\n",
    "import nltk\n",
    "from nltk.tokenize import sent_tokenize\n",
    "np.random.seed(125)\n",
    "nltk.download('punkt')"
   ]
  },
  {
   "cell_type": "markdown",
   "metadata": {
    "colab_type": "text",
    "id": "rmNqQz4NmBH6"
   },
   "source": [
    "## Dataset Preview"
   ]
  },
  {
   "cell_type": "code",
   "execution_count": 14,
   "metadata": {
    "colab": {
     "base_uri": "https://localhost:8080/",
     "height": 198
    },
    "colab_type": "code",
    "id": "umjsC7-AmWJl",
    "outputId": "45d0532e-0584-45d5-c836-566a1ffd0575"
   },
   "outputs": [
    {
     "data": {
      "text/html": [
       "<div>\n",
       "<style scoped>\n",
       "    .dataframe tbody tr th:only-of-type {\n",
       "        vertical-align: middle;\n",
       "    }\n",
       "\n",
       "    .dataframe tbody tr th {\n",
       "        vertical-align: top;\n",
       "    }\n",
       "\n",
       "    .dataframe thead th {\n",
       "        text-align: right;\n",
       "    }\n",
       "</style>\n",
       "<table border=\"1\" class=\"dataframe\">\n",
       "  <thead>\n",
       "    <tr style=\"text-align: right;\">\n",
       "      <th></th>\n",
       "      <th>title</th>\n",
       "      <th>text</th>\n",
       "      <th>label</th>\n",
       "      <th>sent_c</th>\n",
       "    </tr>\n",
       "  </thead>\n",
       "  <tbody>\n",
       "    <tr>\n",
       "      <th>0</th>\n",
       "      <td>You Can Smell Hillary’s Fear</td>\n",
       "      <td>Daniel Greenfield, a Shillman Journalism Fello...</td>\n",
       "      <td>1</td>\n",
       "      <td>87</td>\n",
       "    </tr>\n",
       "    <tr>\n",
       "      <th>1</th>\n",
       "      <td>Watch The Exact Moment Paul Ryan Committed Pol...</td>\n",
       "      <td>Google Pinterest Digg Linkedin Reddit Stumbleu...</td>\n",
       "      <td>1</td>\n",
       "      <td>26</td>\n",
       "    </tr>\n",
       "    <tr>\n",
       "      <th>2</th>\n",
       "      <td>Kerry to go to Paris in gesture of sympathy</td>\n",
       "      <td>U.S. Secretary of State John F. Kerry said Mon...</td>\n",
       "      <td>0</td>\n",
       "      <td>16</td>\n",
       "    </tr>\n",
       "    <tr>\n",
       "      <th>3</th>\n",
       "      <td>Bernie supporters on Twitter erupt in anger ag...</td>\n",
       "      <td>— Kaydee King (@KaydeeKing) November 9, 2016 T...</td>\n",
       "      <td>1</td>\n",
       "      <td>17</td>\n",
       "    </tr>\n",
       "    <tr>\n",
       "      <th>4</th>\n",
       "      <td>The Battle of New York: Why This Primary Matters</td>\n",
       "      <td>It's primary day in New York and front-runners...</td>\n",
       "      <td>0</td>\n",
       "      <td>21</td>\n",
       "    </tr>\n",
       "  </tbody>\n",
       "</table>\n",
       "</div>"
      ],
      "text/plain": [
       "                                               title  \\\n",
       "0                       You Can Smell Hillary’s Fear   \n",
       "1  Watch The Exact Moment Paul Ryan Committed Pol...   \n",
       "2        Kerry to go to Paris in gesture of sympathy   \n",
       "3  Bernie supporters on Twitter erupt in anger ag...   \n",
       "4   The Battle of New York: Why This Primary Matters   \n",
       "\n",
       "                                                text  label  sent_c  \n",
       "0  Daniel Greenfield, a Shillman Journalism Fello...      1      87  \n",
       "1  Google Pinterest Digg Linkedin Reddit Stumbleu...      1      26  \n",
       "2  U.S. Secretary of State John F. Kerry said Mon...      0      16  \n",
       "3  — Kaydee King (@KaydeeKing) November 9, 2016 T...      1      17  \n",
       "4  It's primary day in New York and front-runners...      0      21  "
      ]
     },
     "execution_count": 14,
     "metadata": {
      "tags": []
     },
     "output_type": "execute_result"
    }
   ],
   "source": [
    "dic = {'FAKE':1,'REAL':0}\n",
    "df = pd.read_csv('drive/My Drive/CSV/fake_or_real_news.csv')[['title','text','label']]\n",
    "df['label'] = df['label'].apply(lambda x: dic[x])\n",
    "df['sent_c'] = df['text'].astype(str).apply(sent_tokenize).apply(len)\n",
    "df.head()"
   ]
  },
  {
   "cell_type": "code",
   "execution_count": 15,
   "metadata": {
    "colab": {
     "base_uri": "https://localhost:8080/",
     "height": 72
    },
    "colab_type": "code",
    "id": "g28ErNsmnAw_",
    "outputId": "0dc15a0a-c3ba-4541-9d04-de0cf11b9e54"
   },
   "outputs": [
    {
     "data": {
      "text/plain": [
       "0    3171\n",
       "1    3164\n",
       "Name: label, dtype: int64"
      ]
     },
     "execution_count": 15,
     "metadata": {
      "tags": []
     },
     "output_type": "execute_result"
    }
   ],
   "source": [
    "df['label'].value_counts()"
   ]
  },
  {
   "cell_type": "markdown",
   "metadata": {
    "colab_type": "text",
    "id": "famE0ey-8cQn"
   },
   "source": [
    "## **Embeddings from google sentence encoder**"
   ]
  },
  {
   "cell_type": "code",
   "execution_count": 0,
   "metadata": {
    "colab": {},
    "colab_type": "code",
    "id": "3OPy9rs5ytwr"
   },
   "outputs": [],
   "source": [
    "# Functions\n",
    "def convert_to_one_hot(Y, C):\n",
    "  Y = np.eye(C)[Y.reshape(-1)]\n",
    "  return Y\n",
    "\n",
    "# for padding\n",
    "def fix(arr,pad_s = 50):\n",
    "  dif = pad_s - arr.shape[0]\n",
    "  temp = np.concatenate((arr, np.zeros((dif,512))))\n",
    "  return temp\n",
    "\n",
    "def acc_plot(history):\n",
    "  # summarize history for accuracy\n",
    "  print('========='*10)\n",
    "  plt.plot(history.history['acc'])\n",
    "  plt.plot(history.history['val_acc'])\n",
    "  plt.title('model accuracy')\n",
    "  plt.ylabel('accuracy')\n",
    "  plt.xlabel('epoch')\n",
    "  plt.legend(['train', 'test'], loc='upper left')\n",
    "  plt.show()\n",
    "\n",
    "def loss_plot(history):\n",
    "  # summarize history for loss\n",
    "  print('========='*10)\n",
    "  plt.plot(history.history['loss'])\n",
    "  plt.plot(history.history['val_loss'])\n",
    "  plt.title('model loss')\n",
    "  plt.ylabel('loss')\n",
    "  plt.xlabel('epoch')\n",
    "  plt.legend(['train', 'test'], loc='upper left')\n",
    "  plt.show()\n"
   ]
  },
  {
   "cell_type": "code",
   "execution_count": 17,
   "metadata": {
    "colab": {
     "base_uri": "https://localhost:8080/",
     "height": 72
    },
    "colab_type": "code",
    "id": "Ehf6Q6-dv6M4",
    "outputId": "e838bddc-9fba-4393-b918-2993a297e71b"
   },
   "outputs": [
    {
     "name": "stdout",
     "output_type": "stream",
     "text": [
      "Type\tCounts\n",
      "Real\t1900\n",
      "Fake\t1992\n"
     ]
    }
   ],
   "source": [
    "# Article Embeddings made from Google Universal Sentence Encoder\n",
    "real_art = np.load('drive/My Drive/CSV/emb/GM/gm_real_art_emb.npy')\n",
    "fake_art = np.load('drive/My Drive/CSV/emb/GM/gm_fake_art_emb.npy')\n",
    "data = np.concatenate((real_art,fake_art),axis=0)\n",
    "print('Type\\tCounts\\n{}\\t{}\\n{}\\t{}'.format('Real',len(real_art),'Fake',len(fake_art)))"
   ]
  },
  {
   "cell_type": "code",
   "execution_count": 18,
   "metadata": {
    "colab": {
     "base_uri": "https://localhost:8080/",
     "height": 35
    },
    "colab_type": "code",
    "id": "GYCMbMBAHaGX",
    "outputId": "8987d318-2b42-48b0-821b-3b4de7d35332"
   },
   "outputs": [
    {
     "data": {
      "text/plain": [
       "(3892, 50, 512)"
      ]
     },
     "execution_count": 18,
     "metadata": {
      "tags": []
     },
     "output_type": "execute_result"
    }
   ],
   "source": [
    "# Contains Total of 12400 articles \n",
    "# Each article has maximum of 50 Sentences (which are padded if less)\n",
    "# Each sentence is represented by a vector of size (512,) \n",
    "data.shape"
   ]
  },
  {
   "cell_type": "code",
   "execution_count": 25,
   "metadata": {
    "colab": {
     "base_uri": "https://localhost:8080/",
     "height": 254
    },
    "colab_type": "code",
    "id": "Bczj9g1nnj0R",
    "outputId": "cf89cbc8-0010-40f2-e6ba-75f092caa08c"
   },
   "outputs": [
    {
     "data": {
      "text/plain": [
       "array([[ 0.00272507,  0.01960489, -0.00197567, ...,  0.02693786,\n",
       "        -0.03068938, -0.05358364],\n",
       "       [-0.00563453,  0.02368031, -0.01412359, ...,  0.01552972,\n",
       "        -0.07706973, -0.05728036],\n",
       "       [-0.06520706,  0.02270758, -0.04134183, ...,  0.08438758,\n",
       "        -0.07415032, -0.02624823],\n",
       "       ...,\n",
       "       [ 0.        ,  0.        ,  0.        , ...,  0.        ,\n",
       "         0.        ,  0.        ],\n",
       "       [ 0.        ,  0.        ,  0.        , ...,  0.        ,\n",
       "         0.        ,  0.        ],\n",
       "       [ 0.        ,  0.        ,  0.        , ...,  0.        ,\n",
       "         0.        ,  0.        ]])"
      ]
     },
     "execution_count": 25,
     "metadata": {
      "tags": []
     },
     "output_type": "execute_result"
    }
   ],
   "source": [
    "real_art[-1]"
   ]
  },
  {
   "cell_type": "code",
   "execution_count": 27,
   "metadata": {
    "colab": {
     "base_uri": "https://localhost:8080/",
     "height": 54
    },
    "colab_type": "code",
    "id": "-loAYJxNCfQh",
    "outputId": "e35c67bd-5706-4698-bf16-04768c7e0c00"
   },
   "outputs": [
    {
     "name": "stdout",
     "output_type": "stream",
     "text": [
      "[1. 0.]\n",
      "[0. 1.]\n"
     ]
    }
   ],
   "source": [
    "# One hot representation of Labels\n",
    "Y = convert_to_one_hot(np.append(np.zeros((1900,),dtype=int),np.ones((1992,),dtype=int)),2) # reliable [1,0] fake [0,1]\n",
    "print(Y[0],Y[2200],sep='\\n')"
   ]
  },
  {
   "cell_type": "markdown",
   "metadata": {
    "colab_type": "text",
    "id": "0Nzdhk5rEzGa"
   },
   "source": [
    "### **Train - Test**"
   ]
  },
  {
   "cell_type": "code",
   "execution_count": 0,
   "metadata": {
    "colab": {},
    "colab_type": "code",
    "id": "1USpdHkSFzgd"
   },
   "outputs": [],
   "source": [
    "# Train Test\n",
    "xTrain, xTest, yTrain, yTest = train_test_split(data, Y, test_size = 0.2, random_state = 125)"
   ]
  },
  {
   "cell_type": "code",
   "execution_count": 29,
   "metadata": {
    "colab": {
     "base_uri": "https://localhost:8080/",
     "height": 108
    },
    "colab_type": "code",
    "id": "0GvPF6cgjuwJ",
    "outputId": "770eed43-f7a3-47ae-9d9c-edd73688a33f"
   },
   "outputs": [
    {
     "data": {
      "text/plain": [
       "array([[1., 0.],\n",
       "       [0., 1.],\n",
       "       [1., 0.],\n",
       "       [0., 1.],\n",
       "       [0., 1.]])"
      ]
     },
     "execution_count": 29,
     "metadata": {
      "tags": []
     },
     "output_type": "execute_result"
    }
   ],
   "source": [
    "\n",
    "# First 5 labels \n",
    "yTest[:5]"
   ]
  },
  {
   "cell_type": "code",
   "execution_count": 30,
   "metadata": {
    "colab": {
     "base_uri": "https://localhost:8080/",
     "height": 35
    },
    "colab_type": "code",
    "id": "FkJo_PNeHgJt",
    "outputId": "381133e4-7d19-48a2-bb00-44e750e44de6"
   },
   "outputs": [
    {
     "name": "stdout",
     "output_type": "stream",
     "text": [
      "Train Size - 3113, Test size - 779 \n"
     ]
    }
   ],
   "source": [
    "print(\"Train Size - {}, Test size - {} \".format(yTrain.shape[0],yTest.shape[0]))"
   ]
  },
  {
   "cell_type": "code",
   "execution_count": 31,
   "metadata": {
    "colab": {
     "base_uri": "https://localhost:8080/",
     "height": 35
    },
    "colab_type": "code",
    "id": "g-I9elJyIQux",
    "outputId": "c9e74cc7-7dc5-43b5-bc7d-ea9e93b353a2"
   },
   "outputs": [
    {
     "data": {
      "text/plain": [
       "(3113, 50, 512)"
      ]
     },
     "execution_count": 31,
     "metadata": {
      "tags": []
     },
     "output_type": "execute_result"
    }
   ],
   "source": [
    "xTrain.shape"
   ]
  },
  {
   "cell_type": "code",
   "execution_count": 32,
   "metadata": {
    "colab": {
     "base_uri": "https://localhost:8080/",
     "height": 35
    },
    "colab_type": "code",
    "id": "VOXr367p_-JZ",
    "outputId": "520adc7f-bc6a-4432-b46f-d84b0b900eb0"
   },
   "outputs": [
    {
     "data": {
      "text/plain": [
       "(array([0., 1.]), array([379, 400]))"
      ]
     },
     "execution_count": 32,
     "metadata": {
      "tags": []
     },
     "output_type": "execute_result"
    }
   ],
   "source": [
    "unique, counts = np.unique(yTest[:,0], return_counts=True)\n",
    "unique, counts"
   ]
  },
  {
   "cell_type": "code",
   "execution_count": 0,
   "metadata": {
    "colab": {},
    "colab_type": "code",
    "id": "gx3PWcvO3Q4V"
   },
   "outputs": [],
   "source": [
    "# Will be used in callbacks in keras model.fit\n",
    "es = EarlyStopping(monitor='val_loss', mode='min', verbose=1, patience=2)"
   ]
  },
  {
   "cell_type": "markdown",
   "metadata": {
    "colab_type": "text",
    "id": "mfAnt-grIxQs"
   },
   "source": [
    "## **Model v1**\n",
    "Simple Single Layer LSTM followed by a dense layer.\n",
    "- LSTM layer takes input a 3d vector which has 50 timesteps, 512 Features, 1 or more samples\n",
    "- LSTM layer is the input layer in this case\n",
    "- Embeddings are directly fed into it."
   ]
  },
  {
   "cell_type": "code",
   "execution_count": 47,
   "metadata": {
    "colab": {
     "base_uri": "https://localhost:8080/",
     "height": 272
    },
    "colab_type": "code",
    "id": "bunYETa-Iw5W",
    "outputId": "6a13c24a-3424-440e-e16c-25ffd9cfe366"
   },
   "outputs": [
    {
     "name": "stdout",
     "output_type": "stream",
     "text": [
      "_________________________________________________________________\n",
      "Layer (type)                 Output Shape              Param #   \n",
      "=================================================================\n",
      "lstm_7 (LSTM)                (None, 256)               787456    \n",
      "_________________________________________________________________\n",
      "dropout_7 (Dropout)          (None, 256)               0         \n",
      "_________________________________________________________________\n",
      "dense_5 (Dense)              (None, 2)                 514       \n",
      "=================================================================\n",
      "Total params: 787,970\n",
      "Trainable params: 787,970\n",
      "Non-trainable params: 0\n",
      "_________________________________________________________________\n",
      "None\n"
     ]
    }
   ],
   "source": [
    "modelv1 = Sequential()\n",
    "modelv1.add(LSTM(256, input_shape=(50, 512), return_sequences=False,activity_regularizer=l1(0.0001)))\n",
    "modelv1.add(Dropout(0.5))\n",
    "modelv1.add(Dense(2, activation='softmax'))\n",
    "modelv1.compile(loss='categorical_crossentropy', optimizer='adam', metrics=['accuracy'])\n",
    "print(modelv1.summary())"
   ]
  },
  {
   "cell_type": "code",
   "execution_count": 48,
   "metadata": {
    "colab": {
     "base_uri": "https://localhost:8080/",
     "height": 417
    },
    "colab_type": "code",
    "id": "dBm95v8yIwKN",
    "outputId": "ffaa7338-c811-45b0-d5f5-f02b0289dce9"
   },
   "outputs": [
    {
     "name": "stdout",
     "output_type": "stream",
     "text": [
      "Train on 3113 samples, validate on 779 samples\n",
      "Epoch 1/10\n",
      "3113/3113 [==============================] - 10s 3ms/step - loss: 0.5386 - acc: 0.7732 - val_loss: 0.4667 - val_acc: 0.8087\n",
      "Epoch 2/10\n",
      "3113/3113 [==============================] - 8s 3ms/step - loss: 0.3908 - acc: 0.8571 - val_loss: 0.4207 - val_acc: 0.8421\n",
      "Epoch 3/10\n",
      "3113/3113 [==============================] - 8s 3ms/step - loss: 0.3624 - acc: 0.8741 - val_loss: 0.4261 - val_acc: 0.8241\n",
      "Epoch 4/10\n",
      "3113/3113 [==============================] - 8s 3ms/step - loss: 0.3332 - acc: 0.8844 - val_loss: 0.4004 - val_acc: 0.8819\n",
      "Epoch 5/10\n",
      "3113/3113 [==============================] - 8s 3ms/step - loss: 0.3247 - acc: 0.8879 - val_loss: 0.3597 - val_acc: 0.8691\n",
      "Epoch 6/10\n",
      "3113/3113 [==============================] - 8s 3ms/step - loss: 0.3159 - acc: 0.8850 - val_loss: 0.3605 - val_acc: 0.8768\n",
      "Epoch 7/10\n",
      "3113/3113 [==============================] - 8s 3ms/step - loss: 0.3031 - acc: 0.8940 - val_loss: 0.3524 - val_acc: 0.8729\n",
      "Epoch 8/10\n",
      "3113/3113 [==============================] - 8s 3ms/step - loss: 0.3026 - acc: 0.8978 - val_loss: 0.3170 - val_acc: 0.8999\n",
      "Epoch 9/10\n",
      "3113/3113 [==============================] - 8s 3ms/step - loss: 0.2792 - acc: 0.9030 - val_loss: 0.3350 - val_acc: 0.8922\n",
      "Epoch 10/10\n",
      "3113/3113 [==============================] - 8s 3ms/step - loss: 0.3020 - acc: 0.8940 - val_loss: 0.3321 - val_acc: 0.8755\n",
      "Epoch 00010: early stopping\n"
     ]
    }
   ],
   "source": [
    "history_v1 = modelv1.fit(xTrain, yTrain, epochs=10, validation_data=(xTest, yTest), batch_size=64,validation_split=0.2, callbacks = [es])"
   ]
  },
  {
   "cell_type": "code",
   "execution_count": 49,
   "metadata": {
    "colab": {
     "base_uri": "https://localhost:8080/",
     "height": 90
    },
    "colab_type": "code",
    "id": "q-UO_OJmIvzU",
    "outputId": "8e8b0d78-2543-4bc2-eaa4-045b54f7776f"
   },
   "outputs": [
    {
     "name": "stdout",
     "output_type": "stream",
     "text": [
      "779/779 [==============================] - 2s 2ms/step\n",
      "\n",
      "Test accuracy : 0.8754813862397827\n",
      "Loss : 0.31578300417005173\n"
     ]
    }
   ],
   "source": [
    "loss, acc = modelv1.evaluate(xTest, yTest)\n",
    "print()\n",
    "print('Test accuracy : {}\\nLoss : {}'.format(acc,loss))"
   ]
  },
  {
   "cell_type": "markdown",
   "metadata": {
    "colab_type": "text",
    "id": "hyKCgyxXQGNS"
   },
   "source": [
    "## **Model v2**\n",
    "- Double layered LSTM with dropout and dense.\n"
   ]
  },
  {
   "cell_type": "code",
   "execution_count": 50,
   "metadata": {
    "colab": {
     "base_uri": "https://localhost:8080/",
     "height": 345
    },
    "colab_type": "code",
    "id": "urgpoHawLB1M",
    "outputId": "b0b38fcf-45ee-45c7-d2b1-19b6e9f72be5"
   },
   "outputs": [
    {
     "name": "stdout",
     "output_type": "stream",
     "text": [
      "_________________________________________________________________\n",
      "Layer (type)                 Output Shape              Param #   \n",
      "=================================================================\n",
      "lstm_8 (LSTM)                (None, 50, 256)           787456    \n",
      "_________________________________________________________________\n",
      "dropout_8 (Dropout)          (None, 50, 256)           0         \n",
      "_________________________________________________________________\n",
      "lstm_9 (LSTM)                (None, 256)               525312    \n",
      "_________________________________________________________________\n",
      "dropout_9 (Dropout)          (None, 256)               0         \n",
      "_________________________________________________________________\n",
      "dense_6 (Dense)              (None, 2)                 514       \n",
      "=================================================================\n",
      "Total params: 1,313,282\n",
      "Trainable params: 1,313,282\n",
      "Non-trainable params: 0\n",
      "_________________________________________________________________\n",
      "None\n"
     ]
    }
   ],
   "source": [
    "# MODEl v2\n",
    "# Change number of units in LSTM \n",
    "modelv2 = Sequential()\n",
    "modelv2.add(LSTM(256, input_shape=(50, 512), return_sequences=True))\n",
    "modelv2.add(Dropout(0.5)) # change to see different results\n",
    "modelv2.add(LSTM(256, input_shape=(50, 512), return_sequences=False,activity_regularizer=l1(0.0001)))\n",
    "modelv2.add(Dropout(0.5))\n",
    "modelv2.add(Dense(2, activation='softmax')) # check softmax or other function\n",
    "adam = optimizers.Adam(lr=0.001, beta_1=0.9, beta_2=0.999, epsilon=1e-8, decay=0.0, amsgrad=False)\n",
    "#adamax = optimizers.Adamax(lr=0.002, beta_1=0.9, beta_2=0.999, epsilon=1e-8, decay=0.0)\n",
    "modelv2.compile(loss='categorical_crossentropy', optimizer=adam, metrics=['accuracy'])\n",
    "print(modelv2.summary())\n"
   ]
  },
  {
   "cell_type": "code",
   "execution_count": 51,
   "metadata": {
    "colab": {
     "base_uri": "https://localhost:8080/",
     "height": 435
    },
    "colab_type": "code",
    "id": "JMBkZIqoRpNF",
    "outputId": "f6f3f436-c023-419b-af1e-b4bf82e6627a"
   },
   "outputs": [
    {
     "name": "stdout",
     "output_type": "stream",
     "text": [
      "Train on 3113 samples, validate on 779 samples\n",
      "Epoch 1/10\n",
      "3113/3113 [==============================] - 18s 6ms/step - loss: 0.5135 - acc: 0.7925 - val_loss: 0.4051 - val_acc: 0.8626\n",
      "Epoch 2/10\n",
      "3113/3113 [==============================] - 16s 5ms/step - loss: 0.3908 - acc: 0.8651 - val_loss: 0.3934 - val_acc: 0.8562\n",
      "Epoch 3/10\n",
      "3113/3113 [==============================] - 16s 5ms/step - loss: 0.3498 - acc: 0.8766 - val_loss: 0.3535 - val_acc: 0.8780\n",
      "Epoch 4/10\n",
      "3113/3113 [==============================] - 16s 5ms/step - loss: 0.3458 - acc: 0.8815 - val_loss: 0.3648 - val_acc: 0.8819\n",
      "Epoch 5/10\n",
      "3113/3113 [==============================] - 16s 5ms/step - loss: 0.3331 - acc: 0.8837 - val_loss: 0.3673 - val_acc: 0.8716\n",
      "Epoch 6/10\n",
      "3113/3113 [==============================] - 16s 5ms/step - loss: 0.3202 - acc: 0.8905 - val_loss: 0.3926 - val_acc: 0.8306\n",
      "Epoch 7/10\n",
      "3113/3113 [==============================] - 16s 5ms/step - loss: 0.3186 - acc: 0.8844 - val_loss: 0.4464 - val_acc: 0.8344\n",
      "Epoch 8/10\n",
      "3113/3113 [==============================] - 16s 5ms/step - loss: 0.3139 - acc: 0.8985 - val_loss: 0.3360 - val_acc: 0.8742\n",
      "Epoch 9/10\n",
      "3113/3113 [==============================] - 16s 5ms/step - loss: 0.2733 - acc: 0.9091 - val_loss: 0.2969 - val_acc: 0.9076\n",
      "Epoch 10/10\n",
      "3113/3113 [==============================] - 16s 5ms/step - loss: 0.2732 - acc: 0.9123 - val_loss: 0.3038 - val_acc: 0.8947\n",
      "CPU times: user 3min 23s, sys: 24 s, total: 3min 47s\n",
      "Wall time: 2min 43s\n"
     ]
    }
   ],
   "source": [
    "%%time\n",
    "historyv2 = modelv2.fit(xTrain, yTrain, epochs=10, validation_data=(xTest, yTest), validation_split=0.2, batch_size=64)"
   ]
  },
  {
   "cell_type": "code",
   "execution_count": 52,
   "metadata": {
    "colab": {
     "base_uri": "https://localhost:8080/",
     "height": 90
    },
    "colab_type": "code",
    "id": "IFbYdDi-N-RH",
    "outputId": "67a2d94c-e3fc-468f-f4da-bb3656c4115c"
   },
   "outputs": [
    {
     "name": "stdout",
     "output_type": "stream",
     "text": [
      "779/779 [==============================] - 3s 4ms/step\n",
      "\n",
      "Test Accuracy : 0.8947368419522346\n",
      "Loss : 0.2834716303051666\n"
     ]
    }
   ],
   "source": [
    "loss, acc = modelv2.evaluate(xTest, yTest)\n",
    "print()\n",
    "print('Test Accuracy : {}\\nLoss : {}'.format(acc,loss))"
   ]
  },
  {
   "cell_type": "markdown",
   "metadata": {
    "colab_type": "text",
    "id": "MhhmOJrFUT2k"
   },
   "source": [
    "## **Model v3**\n",
    "- Added conv layer on top of LSTM stack. layer 1 learns more spatial relationship. Architecture after this is same as model v1."
   ]
  },
  {
   "cell_type": "code",
   "execution_count": 53,
   "metadata": {
    "colab": {
     "base_uri": "https://localhost:8080/",
     "height": 345
    },
    "colab_type": "code",
    "id": "qZczKDHBUGes",
    "outputId": "d11d8d5f-42cf-4c30-f151-9ab58c572627"
   },
   "outputs": [
    {
     "name": "stdout",
     "output_type": "stream",
     "text": [
      "_________________________________________________________________\n",
      "Layer (type)                 Output Shape              Param #   \n",
      "=================================================================\n",
      "conv1d_3 (Conv1D)            (None, 50, 512)           786944    \n",
      "_________________________________________________________________\n",
      "max_pooling1d_3 (MaxPooling1 (None, 25, 512)           0         \n",
      "_________________________________________________________________\n",
      "lstm_10 (LSTM)               (None, 256)               787456    \n",
      "_________________________________________________________________\n",
      "dropout_10 (Dropout)         (None, 256)               0         \n",
      "_________________________________________________________________\n",
      "dense_7 (Dense)              (None, 2)                 514       \n",
      "=================================================================\n",
      "Total params: 1,574,914\n",
      "Trainable params: 1,574,914\n",
      "Non-trainable params: 0\n",
      "_________________________________________________________________\n",
      "None\n"
     ]
    }
   ],
   "source": [
    "modelv3 = Sequential()\n",
    "modelv3.add(Conv1D(input_shape=(50, 512),filters=512, kernel_size=3, padding='same', activation='relu'))\n",
    "modelv3.add(MaxPooling1D(pool_size=2))\n",
    "modelv3.add(LSTM(256, input_shape=(50, 512), return_sequences=False,activity_regularizer=l1(0.0001)))\n",
    "modelv3.add(Dropout(0.5))\n",
    "modelv3.add(Dense(2, activation='softmax'))\n",
    "modelv3.compile(loss='categorical_crossentropy', optimizer='adam', metrics=['accuracy'])\n",
    "print(modelv3.summary())\n",
    "\n",
    "\n"
   ]
  },
  {
   "cell_type": "code",
   "execution_count": 54,
   "metadata": {
    "colab": {
     "base_uri": "https://localhost:8080/",
     "height": 345
    },
    "colab_type": "code",
    "id": "lsj3JT6PXdOP",
    "outputId": "b60747d0-d101-4cb5-b3ef-5942d69fa4bb"
   },
   "outputs": [
    {
     "name": "stdout",
     "output_type": "stream",
     "text": [
      "Train on 3113 samples, validate on 779 samples\n",
      "Epoch 1/10\n",
      "3113/3113 [==============================] - 7s 2ms/step - loss: 0.4905 - acc: 0.7963 - val_loss: 0.3971 - val_acc: 0.8639\n",
      "Epoch 2/10\n",
      "3113/3113 [==============================] - 6s 2ms/step - loss: 0.3526 - acc: 0.8847 - val_loss: 0.3536 - val_acc: 0.8768\n",
      "Epoch 3/10\n",
      "3113/3113 [==============================] - 5s 2ms/step - loss: 0.2760 - acc: 0.9242 - val_loss: 0.2988 - val_acc: 0.9076\n",
      "Epoch 4/10\n",
      "3113/3113 [==============================] - 5s 2ms/step - loss: 0.2202 - acc: 0.9470 - val_loss: 0.2887 - val_acc: 0.9063\n",
      "Epoch 5/10\n",
      "3113/3113 [==============================] - 5s 2ms/step - loss: 0.1822 - acc: 0.9605 - val_loss: 0.2451 - val_acc: 0.9332\n",
      "Epoch 6/10\n",
      "3113/3113 [==============================] - 5s 2ms/step - loss: 0.1466 - acc: 0.9753 - val_loss: 0.3307 - val_acc: 0.8973\n",
      "Epoch 7/10\n",
      "3113/3113 [==============================] - 6s 2ms/step - loss: 0.1138 - acc: 0.9852 - val_loss: 0.2975 - val_acc: 0.9114\n",
      "Epoch 00007: early stopping\n",
      "CPU times: user 46.5 s, sys: 5.54 s, total: 52 s\n",
      "Wall time: 41.7 s\n"
     ]
    }
   ],
   "source": [
    "%%time\n",
    "historyv3 = modelv3.fit(xTrain, yTrain, epochs=10, validation_data=(xTest, yTest), batch_size=64, validation_split=0.2, callbacks = [es])"
   ]
  },
  {
   "cell_type": "code",
   "execution_count": 55,
   "metadata": {
    "colab": {
     "base_uri": "https://localhost:8080/",
     "height": 90
    },
    "colab_type": "code",
    "id": "dll10w4rXwuq",
    "outputId": "6eec5cb5-4808-4a53-d4b9-cec355ecd2a1"
   },
   "outputs": [
    {
     "name": "stdout",
     "output_type": "stream",
     "text": [
      "779/779 [==============================] - 1s 1ms/step\n",
      "\n",
      "Test accuracy : 0.911424904105293 \n",
      "Loss : 0.2716505526731195\n"
     ]
    }
   ],
   "source": [
    "loss, acc = modelv3.evaluate(xTest, yTest)\n",
    "print()\n",
    "print('Test accuracy : {} \\nLoss : {}'.format(acc,loss))"
   ]
  },
  {
   "cell_type": "markdown",
   "metadata": {
    "colab_type": "text",
    "id": "FtxpGOeiZH_E"
   },
   "source": [
    "## **Model v4**\n",
    "\n",
    "- Added conv layer as input layer.. after which RNN.. v2"
   ]
  },
  {
   "cell_type": "code",
   "execution_count": 56,
   "metadata": {
    "colab": {
     "base_uri": "https://localhost:8080/",
     "height": 417
    },
    "colab_type": "code",
    "id": "VdDRa3SIYRxX",
    "outputId": "a9b14934-5f5e-4950-f922-9c8cca4b1613"
   },
   "outputs": [
    {
     "name": "stdout",
     "output_type": "stream",
     "text": [
      "_________________________________________________________________\n",
      "Layer (type)                 Output Shape              Param #   \n",
      "=================================================================\n",
      "conv1d_4 (Conv1D)            (None, 50, 512)           786944    \n",
      "_________________________________________________________________\n",
      "max_pooling1d_4 (MaxPooling1 (None, 25, 512)           0         \n",
      "_________________________________________________________________\n",
      "lstm_11 (LSTM)               (None, 25, 512)           2099200   \n",
      "_________________________________________________________________\n",
      "dropout_11 (Dropout)         (None, 25, 512)           0         \n",
      "_________________________________________________________________\n",
      "lstm_12 (LSTM)               (None, 512)               2099200   \n",
      "_________________________________________________________________\n",
      "dropout_12 (Dropout)         (None, 512)               0         \n",
      "_________________________________________________________________\n",
      "dense_8 (Dense)              (None, 2)                 1026      \n",
      "=================================================================\n",
      "Total params: 4,986,370\n",
      "Trainable params: 4,986,370\n",
      "Non-trainable params: 0\n",
      "_________________________________________________________________\n",
      "None\n"
     ]
    }
   ],
   "source": [
    "modelv4 = Sequential()\n",
    "modelv4.add(Conv1D(input_shape=(50, 512),filters=512, kernel_size=3, padding='same', activation='relu'))\n",
    "modelv4.add(MaxPooling1D(pool_size=2))\n",
    "modelv4.add(LSTM(512, input_shape=(50, 512), return_sequences=True))\n",
    "modelv4.add(Dropout(0.5)) # change to see different results\n",
    "modelv4.add(LSTM(512, input_shape=(50, 512), return_sequences=False, activity_regularizer=l1(0.0001)))\n",
    "modelv4.add(Dropout(0.5))\n",
    "adam = optimizers.Adam(lr=0.001, beta_1=0.9, beta_2=0.999, epsilon=1e-8, decay=0.0, amsgrad=False)\n",
    "#adamax = optimizers.Adamax(lr=0.002, beta_1=0.9, beta_2=0.999, epsilon=1e-8, decay=0.0)\n",
    "modelv4.add(Dense(2, activation='softmax')) # check softmax or other function\n",
    "modelv4.compile(loss='categorical_crossentropy', optimizer= adam, metrics=['accuracy'])\n",
    "print(modelv4.summary())\n"
   ]
  },
  {
   "cell_type": "code",
   "execution_count": 57,
   "metadata": {
    "colab": {
     "base_uri": "https://localhost:8080/",
     "height": 308
    },
    "colab_type": "code",
    "id": "cuEs5YIRaS8r",
    "outputId": "99e35e5d-3eae-44d4-a9f8-8c316ea8b4d0"
   },
   "outputs": [
    {
     "name": "stdout",
     "output_type": "stream",
     "text": [
      "Train on 3113 samples, validate on 779 samples\n",
      "Epoch 1/10\n",
      "3113/3113 [==============================] - 13s 4ms/step - loss: 0.5041 - acc: 0.7983 - val_loss: 0.3952 - val_acc: 0.8639\n",
      "Epoch 2/10\n",
      "3113/3113 [==============================] - 10s 3ms/step - loss: 0.3551 - acc: 0.8892 - val_loss: 0.3444 - val_acc: 0.8896\n",
      "Epoch 3/10\n",
      "3113/3113 [==============================] - 10s 3ms/step - loss: 0.2686 - acc: 0.9300 - val_loss: 0.3370 - val_acc: 0.8870\n",
      "Epoch 4/10\n",
      "3113/3113 [==============================] - 10s 3ms/step - loss: 0.2315 - acc: 0.9435 - val_loss: 0.2773 - val_acc: 0.9230\n",
      "Epoch 5/10\n",
      "3113/3113 [==============================] - 10s 3ms/step - loss: 0.1720 - acc: 0.9656 - val_loss: 0.3134 - val_acc: 0.9153\n",
      "Epoch 6/10\n",
      "3113/3113 [==============================] - 10s 3ms/step - loss: 0.1399 - acc: 0.9769 - val_loss: 0.3425 - val_acc: 0.9024\n",
      "Epoch 00006: early stopping\n",
      "CPU times: user 1min 15s, sys: 9.89 s, total: 1min 25s\n",
      "Wall time: 1min 5s\n"
     ]
    }
   ],
   "source": [
    "%%time\n",
    "historyv4 = modelv4.fit(xTrain, yTrain, epochs=10, validation_data=(xTest, yTest), batch_size=64, validation_split=0.2, callbacks = [es])"
   ]
  },
  {
   "cell_type": "code",
   "execution_count": 58,
   "metadata": {
    "colab": {
     "base_uri": "https://localhost:8080/",
     "height": 90
    },
    "colab_type": "code",
    "id": "zrf2r1G_adqg",
    "outputId": "df31b703-ae4e-4085-a89a-c0be5d1e25eb"
   },
   "outputs": [
    {
     "name": "stdout",
     "output_type": "stream",
     "text": [
      "779/779 [==============================] - 2s 2ms/step\n",
      "\n",
      "Test accuracy = 0.9024390243137296 \n",
      " loss - 0.31433535448546895\n"
     ]
    }
   ],
   "source": [
    "loss, acc = modelv4.evaluate(xTest, yTest)\n",
    "print()\n",
    "print('Test accuracy = {} \\n loss - {}'.format(acc,loss))"
   ]
  },
  {
   "cell_type": "markdown",
   "metadata": {
    "colab_type": "text",
    "id": "5xlWt99m0G3q"
   },
   "source": [
    "## **Results and Evaluation**"
   ]
  },
  {
   "cell_type": "markdown",
   "metadata": {
    "colab_type": "text",
    "id": "AA9CKUfh2xzJ"
   },
   "source": [
    "### Modelv1"
   ]
  },
  {
   "cell_type": "code",
   "execution_count": 59,
   "metadata": {
    "colab": {
     "base_uri": "https://localhost:8080/",
     "height": 790
    },
    "colab_type": "code",
    "id": "MmiWuuoJ22fq",
    "outputId": "9b12136b-42ee-41f0-b5c7-aab7311dbc74"
   },
   "outputs": [
    {
     "name": "stdout",
     "output_type": "stream",
     "text": [
      "==========================================================================================\n"
     ]
    },
    {
     "data": {
      "image/png": "[encoded data removed]",
      "text/plain": [
       "<matplotlib.figure.Figure at 0x7f7328228da0>"
      ]
     },
     "metadata": {
      "tags": []
     },
     "output_type": "display_data"
    },
    {
     "name": "stdout",
     "output_type": "stream",
     "text": [
      "==========================================================================================\n"
     ]
    },
    {
     "data": {
      "image/png": "[encoded data removed]",
      "text/plain": [
       "<matplotlib.figure.Figure at 0x7f73266022e8>"
      ]
     },
     "metadata": {
      "tags": []
     },
     "output_type": "display_data"
    },
    {
     "data": {
      "text/plain": [
       "(None, None)"
      ]
     },
     "execution_count": 59,
     "metadata": {
      "tags": []
     },
     "output_type": "execute_result"
    }
   ],
   "source": [
    "acc_plot(history_v1),loss_plot(history_v1)"
   ]
  },
  {
   "cell_type": "markdown",
   "metadata": {
    "colab_type": "text",
    "id": "ro_VRerL3Xzh"
   },
   "source": [
    "### Modelv2"
   ]
  },
  {
   "cell_type": "code",
   "execution_count": 60,
   "metadata": {
    "colab": {
     "base_uri": "https://localhost:8080/",
     "height": 790
    },
    "colab_type": "code",
    "id": "bys_Y5x_3X9b",
    "outputId": "7c891a37-3b7b-4337-b621-643c1dda45ca"
   },
   "outputs": [
    {
     "name": "stdout",
     "output_type": "stream",
     "text": [
      "==========================================================================================\n"
     ]
    },
    {
     "data": {
      "image/png": "[encoded data removed]",
      "text/plain": [
       "<matplotlib.figure.Figure at 0x7f73265d7208>"
      ]
     },
     "metadata": {
      "tags": []
     },
     "output_type": "display_data"
    },
    {
     "name": "stdout",
     "output_type": "stream",
     "text": [
      "==========================================================================================\n"
     ]
    },
    {
     "data": {
      "image/png": "[encoded data removed]",
      "text/plain": [
       "<matplotlib.figure.Figure at 0x7f732654d320>"
      ]
     },
     "metadata": {
      "tags": []
     },
     "output_type": "display_data"
    },
    {
     "data": {
      "text/plain": [
       "(None, None)"
      ]
     },
     "execution_count": 60,
     "metadata": {
      "tags": []
     },
     "output_type": "execute_result"
    }
   ],
   "source": [
    "acc_plot(historyv2),loss_plot(historyv2)"
   ]
  },
  {
   "cell_type": "markdown",
   "metadata": {
    "colab_type": "text",
    "id": "ySCYOF173Xgk"
   },
   "source": [
    "### Modelv3"
   ]
  },
  {
   "cell_type": "code",
   "execution_count": 61,
   "metadata": {
    "colab": {
     "base_uri": "https://localhost:8080/",
     "height": 790
    },
    "colab_type": "code",
    "id": "JhyjHlxj3Xqr",
    "outputId": "edb53d19-7a5e-4a65-e27b-c3dadfdf70bd"
   },
   "outputs": [
    {
     "name": "stdout",
     "output_type": "stream",
     "text": [
      "==========================================================================================\n"
     ]
    },
    {
     "data": {
      "image/png": "[encoded data removed]",
      "text/plain": [
       "<matplotlib.figure.Figure at 0x7f732652f358>"
      ]
     },
     "metadata": {
      "tags": []
     },
     "output_type": "display_data"
    },
    {
     "name": "stdout",
     "output_type": "stream",
     "text": [
      "==========================================================================================\n"
     ]
    },
    {
     "data": {
      "image/png": "[encoded data removed]",
      "text/plain": [
       "<matplotlib.figure.Figure at 0x7f732646ada0>"
      ]
     },
     "metadata": {
      "tags": []
     },
     "output_type": "display_data"
    },
    {
     "data": {
      "text/plain": [
       "(None, None)"
      ]
     },
     "execution_count": 61,
     "metadata": {
      "tags": []
     },
     "output_type": "execute_result"
    }
   ],
   "source": [
    "acc_plot(historyv3),loss_plot(historyv3)"
   ]
  },
  {
   "cell_type": "markdown",
   "metadata": {
    "colab_type": "text",
    "id": "ZmzrXXpR3XFK"
   },
   "source": [
    "### Modelv4"
   ]
  },
  {
   "cell_type": "code",
   "execution_count": 62,
   "metadata": {
    "colab": {
     "base_uri": "https://localhost:8080/",
     "height": 790
    },
    "colab_type": "code",
    "id": "y0jGD9iJ3XTq",
    "outputId": "cce14c8d-e2ce-4653-b652-c30451387955"
   },
   "outputs": [
    {
     "name": "stdout",
     "output_type": "stream",
     "text": [
      "==========================================================================================\n"
     ]
    },
    {
     "data": {
      "image/png": "[encoded data removed]",
      "text/plain": [
       "<matplotlib.figure.Figure at 0x7f73263e1ba8>"
      ]
     },
     "metadata": {
      "tags": []
     },
     "output_type": "display_data"
    },
    {
     "name": "stdout",
     "output_type": "stream",
     "text": [
      "==========================================================================================\n"
     ]
    },
    {
     "data": {
      "image/png": "[encoded data removed]",
      "text/plain": [
       "<matplotlib.figure.Figure at 0x7f73264f0320>"
      ]
     },
     "metadata": {
      "tags": []
     },
     "output_type": "display_data"
    },
    {
     "data": {
      "text/plain": [
       "(None, None)"
      ]
     },
     "execution_count": 62,
     "metadata": {
      "tags": []
     },
     "output_type": "execute_result"
    }
   ],
   "source": [
    "acc_plot(historyv4),loss_plot(historyv4)"
   ]
  },
  {
   "cell_type": "code",
   "execution_count": 0,
   "metadata": {
    "colab": {},
    "colab_type": "code",
    "id": "7zqDRPwg5SRe"
   },
   "outputs": [],
   "source": [
    "def model_eval(msg, model,test_data,test_labels):\n",
    "  print('Evaluation of: ',msg)\n",
    "  dash_length = len('Evaluation of Model')\n",
    "  print('---'*dash_length)\n",
    "  y_Pred = model.predict(test_data)\n",
    "  y_Pred = y_Pred[:,0] > 0.5\n",
    "  y_Test = test_labels[:,0] > 0.5\n",
    "  cm = confusion_matrix(y_Test, y_Pred)\n",
    "  print(cm)\n",
    "  print(classification_report(y_Test, y_Pred, target_names=['Real', 'Fake']))\n",
    "  print('---'*dash_length)"
   ]
  },
  {
   "cell_type": "code",
   "execution_count": 64,
   "metadata": {
    "colab": {
     "base_uri": "https://localhost:8080/",
     "height": 1035
    },
    "colab_type": "code",
    "id": "QS6Te96b7K6i",
    "outputId": "4cd55ece-4e2b-485f-97b0-9715907b29fa"
   },
   "outputs": [
    {
     "name": "stdout",
     "output_type": "stream",
     "text": [
      "Evaluation of:  Modelv1\n",
      "---------------------------------------------------------\n",
      "[[351  28]\n",
      " [ 69 331]]\n",
      "              precision    recall  f1-score   support\n",
      "\n",
      "        Real       0.84      0.93      0.88       379\n",
      "        Fake       0.92      0.83      0.87       400\n",
      "\n",
      "   micro avg       0.88      0.88      0.88       779\n",
      "   macro avg       0.88      0.88      0.88       779\n",
      "weighted avg       0.88      0.88      0.88       779\n",
      "\n",
      "---------------------------------------------------------\n",
      "Evaluation of:  Modelv2\n",
      "---------------------------------------------------------\n",
      "[[331  48]\n",
      " [ 34 366]]\n",
      "              precision    recall  f1-score   support\n",
      "\n",
      "        Real       0.91      0.87      0.89       379\n",
      "        Fake       0.88      0.92      0.90       400\n",
      "\n",
      "   micro avg       0.89      0.89      0.89       779\n",
      "   macro avg       0.90      0.89      0.89       779\n",
      "weighted avg       0.90      0.89      0.89       779\n",
      "\n",
      "---------------------------------------------------------\n",
      "Evaluation of:  Modelv3\n",
      "---------------------------------------------------------\n",
      "[[364  15]\n",
      " [ 54 346]]\n",
      "              precision    recall  f1-score   support\n",
      "\n",
      "        Real       0.87      0.96      0.91       379\n",
      "        Fake       0.96      0.86      0.91       400\n",
      "\n",
      "   micro avg       0.91      0.91      0.91       779\n",
      "   macro avg       0.91      0.91      0.91       779\n",
      "weighted avg       0.92      0.91      0.91       779\n",
      "\n",
      "---------------------------------------------------------\n",
      "Evaluation of:  Modelv4\n",
      "---------------------------------------------------------\n",
      "[[356  23]\n",
      " [ 53 347]]\n",
      "              precision    recall  f1-score   support\n",
      "\n",
      "        Real       0.87      0.94      0.90       379\n",
      "        Fake       0.94      0.87      0.90       400\n",
      "\n",
      "   micro avg       0.90      0.90      0.90       779\n",
      "   macro avg       0.90      0.90      0.90       779\n",
      "weighted avg       0.91      0.90      0.90       779\n",
      "\n",
      "---------------------------------------------------------\n"
     ]
    }
   ],
   "source": [
    "model_eval('Modelv1',modelv1,xTest,yTest)\n",
    "model_eval('Modelv2',modelv2,xTest,yTest)\n",
    "model_eval('Modelv3',modelv3,xTest,yTest)\n",
    "model_eval('Modelv4',modelv4,xTest,yTest)"
   ]
  },
  {
   "cell_type": "markdown",
   "metadata": {
    "colab_type": "text",
    "id": "XNpEyr2_8uvl"
   },
   "source": [
    "# Generalization required.\n",
    "Work needed to be done to improve model performance."
   ]
  }
 ],
 "metadata": {
  "accelerator": "GPU",
  "colab": {
   "collapsed_sections": [],
   "name": "gm_classi.ipynb",
   "provenance": [],
   "version": "0.3.2"
  },
  "kernelspec": {
   "display_name": "Python 3",
   "language": "python",
   "name": "python3"
  },
  "language_info": {
   "codemirror_mode": {
    "name": "ipython",
    "version": 3
   },
   "file_extension": ".py",
   "mimetype": "text/x-python",
   "name": "python",
   "nbconvert_exporter": "python",
   "pygments_lexer": "ipython3",
   "version": "3.7.1"
  }
 },
 "nbformat": 4,
 "nbformat_minor": 1
}
