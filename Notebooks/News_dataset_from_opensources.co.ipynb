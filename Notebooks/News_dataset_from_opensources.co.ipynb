{
 "cells": [
  {
   "cell_type": "code",
   "execution_count": 2,
   "metadata": {
    "colab": {
     "base_uri": "https://localhost:8080/",
     "height": 35
    },
    "colab_type": "code",
    "id": "qEMbEEDBttS3",
    "outputId": "40409212-4a19-4d7b-dce4-2fbb85490c67"
   },
   "outputs": [
    {
     "name": "stdout",
     "output_type": "stream",
     "text": [
      "Drive already mounted at /content/drive; to attempt to forcibly remount, call drive.mount(\"/content/drive\", force_remount=True).\n"
     ]
    }
   ],
   "source": [
    "from google.colab import drive\n",
    "drive.mount('/content/drive')"
   ]
  },
  {
   "cell_type": "code",
   "execution_count": 7,
   "metadata": {
    "colab": {
     "base_uri": "https://localhost:8080/",
     "height": 54
    },
    "colab_type": "code",
    "id": "qMzhm_4Jug-P",
    "outputId": "1e1cbbbf-75fe-46d2-8295-52b6bc854043"
   },
   "outputs": [
    {
     "name": "stdout",
     "output_type": "stream",
     "text": [
      "[nltk_data] Downloading package punkt to /root/nltk_data...\n",
      "[nltk_data]   Package punkt is already up-to-date!\n"
     ]
    }
   ],
   "source": [
    "import numpy as np\n",
    "import pandas as pd\n",
    "import pandas as pd\n",
    "import matplotlib.pyplot as plt\n",
    "from keras.models import Model\n",
    "from keras import optimizers\n",
    "from keras.layers import Dense, Input, Dropout, LSTM, Activation\n",
    "from keras.models import Sequential\n",
    "from keras.layers.convolutional import Conv1D\n",
    "from keras.layers.convolutional import MaxPooling1D\n",
    "from keras.regularizers import l1\n",
    "from keras.callbacks import EarlyStopping\n",
    "from sklearn.model_selection import train_test_split\n",
    "from sklearn.metrics import confusion_matrix\n",
    "from sklearn.metrics import classification_report\n",
    "import nltk\n",
    "from nltk.tokenize import sent_tokenize\n",
    "nltk.download('punkt')\n",
    "np.random.seed(125)\n"
   ]
  },
  {
   "cell_type": "code",
   "execution_count": 0,
   "metadata": {
    "colab": {},
    "colab_type": "code",
    "id": "3OPy9rs5ytwr"
   },
   "outputs": [],
   "source": [
    "# Functions\n",
    "def convert_to_one_hot(Y, C):\n",
    "  Y = np.eye(C)[Y.reshape(-1)]\n",
    "  return Y\n",
    "\n",
    "# for padding\n",
    "def fix(arr,pad_s = 50):\n",
    "  dif = pad_s - arr.shape[0]\n",
    "  temp = np.concatenate((arr, np.zeros((dif,512))))\n",
    "  return temp\n",
    "\n",
    "def acc_plot(history):\n",
    "  # summarize history for accuracy\n",
    "  print()\n",
    "  plt.plot(history.history['acc'])\n",
    "  plt.plot(history.history['val_acc'])\n",
    "  plt.title('model accuracy')\n",
    "  plt.ylabel('accuracy')\n",
    "  plt.xlabel('epoch')\n",
    "  plt.legend(['train', 'test'], loc='upper left')\n",
    "  plt.show()\n",
    "\n",
    "def loss_plot(history):\n",
    "  # summarize history for loss\n",
    "  print()\n",
    "  plt.plot(history.history['loss'])\n",
    "  plt.plot(history.history['val_loss'])\n",
    "  plt.title('model loss')\n",
    "  plt.ylabel('loss')\n",
    "  plt.xlabel('epoch')\n",
    "  plt.legend(['train', 'test'], loc='upper left')\n",
    "  plt.show()\n"
   ]
  },
  {
   "cell_type": "markdown",
   "metadata": {
    "colab_type": "text",
    "id": "famE0ey-8cQn"
   },
   "source": [
    "**Embeddings from google sentence encoder**"
   ]
  },
  {
   "cell_type": "markdown",
   "metadata": {
    "colab_type": "text",
    "id": "3savaS-xLAYX"
   },
   "source": [
    "## Dataset Preview"
   ]
  },
  {
   "cell_type": "code",
   "execution_count": 15,
   "metadata": {
    "colab": {
     "base_uri": "https://localhost:8080/",
     "height": 198
    },
    "colab_type": "code",
    "id": "oKu5z4K_LDm5",
    "outputId": "ea649fe5-8e62-4ccd-d75a-f7e73a84f020"
   },
   "outputs": [
    {
     "data": {
      "text/html": [
       "<div>\n",
       "<style scoped>\n",
       "    .dataframe tbody tr th:only-of-type {\n",
       "        vertical-align: middle;\n",
       "    }\n",
       "\n",
       "    .dataframe tbody tr th {\n",
       "        vertical-align: top;\n",
       "    }\n",
       "\n",
       "    .dataframe thead th {\n",
       "        text-align: right;\n",
       "    }\n",
       "</style>\n",
       "<table border=\"1\" class=\"dataframe\">\n",
       "  <thead>\n",
       "    <tr style=\"text-align: right;\">\n",
       "      <th></th>\n",
       "      <th>type</th>\n",
       "      <th>content</th>\n",
       "      <th>title</th>\n",
       "      <th>sent_c</th>\n",
       "    </tr>\n",
       "  </thead>\n",
       "  <tbody>\n",
       "    <tr>\n",
       "      <th>0</th>\n",
       "      <td>1</td>\n",
       "      <td>Quite frankly, I’m surprised it has half left....</td>\n",
       "      <td>Surprise: Socialist Hotbed Of Venezuela Has Lo...</td>\n",
       "      <td>16</td>\n",
       "    </tr>\n",
       "    <tr>\n",
       "      <th>1</th>\n",
       "      <td>1</td>\n",
       "      <td>If You Are Upset About Being Called Fake News,...</td>\n",
       "      <td>Water Cooler date Open Thread; Fake News ? CNN...</td>\n",
       "      <td>17</td>\n",
       "    </tr>\n",
       "    <tr>\n",
       "      <th>2</th>\n",
       "      <td>1</td>\n",
       "      <td>Let’s be honest: This is pretty much all of Fo...</td>\n",
       "      <td>Veteran Commentator Calls Out the Growing “Eth...</td>\n",
       "      <td>18</td>\n",
       "    </tr>\n",
       "    <tr>\n",
       "      <th>3</th>\n",
       "      <td>1</td>\n",
       "      <td>Let me tell you something, about otters and mo...</td>\n",
       "      <td>Lost Words, Hidden Words, Otters, Banks and Books</td>\n",
       "      <td>42</td>\n",
       "    </tr>\n",
       "    <tr>\n",
       "      <th>4</th>\n",
       "      <td>1</td>\n",
       "      <td>Never mind transportation and power generation...</td>\n",
       "      <td>Why Sandwiches Must Be Banned</td>\n",
       "      <td>9</td>\n",
       "    </tr>\n",
       "  </tbody>\n",
       "</table>\n",
       "</div>"
      ],
      "text/plain": [
       "   type                                            content  \\\n",
       "0     1  Quite frankly, I’m surprised it has half left....   \n",
       "1     1  If You Are Upset About Being Called Fake News,...   \n",
       "2     1  Let’s be honest: This is pretty much all of Fo...   \n",
       "3     1  Let me tell you something, about otters and mo...   \n",
       "4     1  Never mind transportation and power generation...   \n",
       "\n",
       "                                               title  sent_c  \n",
       "0  Surprise: Socialist Hotbed Of Venezuela Has Lo...      16  \n",
       "1  Water Cooler date Open Thread; Fake News ? CNN...      17  \n",
       "2  Veteran Commentator Calls Out the Growing “Eth...      18  \n",
       "3  Lost Words, Hidden Words, Otters, Banks and Books      42  \n",
       "4                      Why Sandwiches Must Be Banned       9  "
      ]
     },
     "execution_count": 15,
     "metadata": {
      "tags": []
     },
     "output_type": "execute_result"
    }
   ],
   "source": [
    "dic = {'fake':1,'reliable':0}\n",
    "df = pd.read_csv('drive/My Drive/CSV/clean_fake_reliable.csv')[['type','content','title']]\n",
    "df['type'] = df['type'].apply(lambda x: dic[x])\n",
    "df['sent_c'] = df['content'].astype(str).apply(sent_tokenize).apply(len)\n",
    "df.head()\n"
   ]
  },
  {
   "cell_type": "code",
   "execution_count": 16,
   "metadata": {
    "colab": {
     "base_uri": "https://localhost:8080/",
     "height": 54
    },
    "colab_type": "code",
    "id": "jGU26CrKLDg_",
    "outputId": "a73c24eb-4ca8-425f-bc74-26f88eb95ac4"
   },
   "outputs": [
    {
     "name": "stdout",
     "output_type": "stream",
     "text": [
      "Real\tFake\n",
      "6724\t6162\n"
     ]
    }
   ],
   "source": [
    "print('Real\\tFake\\n{}\\t{}'.format(df['type'].value_counts()[0],df['type'].value_counts()[1]))"
   ]
  },
  {
   "cell_type": "markdown",
   "metadata": {
    "colab_type": "text",
    "id": "5QaEp6JqOhNq"
   },
   "source": [
    "## Google Embeddings "
   ]
  },
  {
   "cell_type": "code",
   "execution_count": 0,
   "metadata": {
    "colab": {
     "base_uri": "https://localhost:8080/",
     "height": 72
    },
    "colab_type": "code",
    "id": "Ehf6Q6-dv6M4",
    "outputId": "6a6ec268-957a-4c34-a667-cd49a7685623"
   },
   "outputs": [
    {
     "name": "stdout",
     "output_type": "stream",
     "text": [
      "Type\tCounts\n",
      "Real\t5899\n",
      "Fake\t5199\n"
     ]
    }
   ],
   "source": [
    "# Article Embeddings made from Google Universal Sentence Encoder\n",
    "real_art = np.load('drive/My Drive/CSV/emb/open_source/real_art_emb.npy')[:5899]\n",
    "fake_art = np.load('drive/My Drive/CSV/emb/open_source/fake_art_emb.npy')[:5199]\n",
    "data = np.concatenate((real_art,fake_art),axis=0)\n",
    "print('Type\\tCounts\\n{}\\t{}\\n{}\\t{}'.format('Real',len(real_art),'Fake',len(fake_art)))"
   ]
  },
  {
   "cell_type": "code",
   "execution_count": 0,
   "metadata": {
    "colab": {
     "base_uri": "https://localhost:8080/",
     "height": 35
    },
    "colab_type": "code",
    "id": "GYCMbMBAHaGX",
    "outputId": "406d5023-777a-4df8-eae6-f98c65bd08dc"
   },
   "outputs": [
    {
     "data": {
      "text/plain": [
       "(11098, 50, 512)"
      ]
     },
     "execution_count": 5,
     "metadata": {
      "tags": []
     },
     "output_type": "execute_result"
    }
   ],
   "source": [
    "# Contains Total of 11098 articles \n",
    "# Each article has maximum of 50 Sentences (which are padded if less)\n",
    "# Each sentence is represented by a vector of size (512,) \n",
    "data.shape"
   ]
  },
  {
   "cell_type": "code",
   "execution_count": 0,
   "metadata": {
    "colab": {
     "base_uri": "https://localhost:8080/",
     "height": 54
    },
    "colab_type": "code",
    "id": "-loAYJxNCfQh",
    "outputId": "27e58d5d-93d2-4fab-d9cb-ca15d03d582b"
   },
   "outputs": [
    {
     "name": "stdout",
     "output_type": "stream",
     "text": [
      "[1. 0.]\n",
      "[0. 1.]\n"
     ]
    }
   ],
   "source": [
    "# One hot representation of Labels\n",
    "Y = convert_to_one_hot(np.append(np.zeros((5899,),dtype=int),np.ones((5199,),dtype=int)),2) # reliable [1,0] fake [0,1]\n",
    "print(Y[0],Y[5900],sep='\\n')"
   ]
  },
  {
   "cell_type": "markdown",
   "metadata": {
    "colab_type": "text",
    "id": "0Nzdhk5rEzGa"
   },
   "source": [
    "### **Train - Test**"
   ]
  },
  {
   "cell_type": "code",
   "execution_count": 0,
   "metadata": {
    "colab": {},
    "colab_type": "code",
    "id": "1USpdHkSFzgd"
   },
   "outputs": [],
   "source": [
    "# Train Test\n",
    "xTrain, xTest, yTrain, yTest = train_test_split(data, Y, test_size = 0.2, random_state = 125)"
   ]
  },
  {
   "cell_type": "code",
   "execution_count": 0,
   "metadata": {
    "colab": {
     "base_uri": "https://localhost:8080/",
     "height": 108
    },
    "colab_type": "code",
    "id": "0GvPF6cgjuwJ",
    "outputId": "ff18e5cc-9dbd-4ff6-a4c7-407b957b09bc"
   },
   "outputs": [
    {
     "data": {
      "text/plain": [
       "array([[1., 0.],\n",
       "       [0., 1.],\n",
       "       [1., 0.],\n",
       "       [1., 0.],\n",
       "       [1., 0.]])"
      ]
     },
     "execution_count": 9,
     "metadata": {
      "tags": []
     },
     "output_type": "execute_result"
    }
   ],
   "source": [
    "# First 5 labels \n",
    "yTest[:5]"
   ]
  },
  {
   "cell_type": "code",
   "execution_count": 0,
   "metadata": {
    "colab": {
     "base_uri": "https://localhost:8080/",
     "height": 35
    },
    "colab_type": "code",
    "id": "FkJo_PNeHgJt",
    "outputId": "ef69f8e8-1148-43e0-d5c8-5bed4ed43e3f"
   },
   "outputs": [
    {
     "name": "stdout",
     "output_type": "stream",
     "text": [
      "Train Size - 8878, Test size - 2220 \n"
     ]
    }
   ],
   "source": [
    "print(\"Train Size - {}, Test size - {} \".format(yTrain.shape[0],yTest.shape[0]))"
   ]
  },
  {
   "cell_type": "code",
   "execution_count": 0,
   "metadata": {
    "colab": {
     "base_uri": "https://localhost:8080/",
     "height": 35
    },
    "colab_type": "code",
    "id": "lF4RkIdS4hoO",
    "outputId": "4a2177f8-18ac-4a27-f730-9d208c834e99"
   },
   "outputs": [
    {
     "data": {
      "text/plain": [
       "True"
      ]
     },
     "execution_count": 42,
     "metadata": {
      "tags": []
     },
     "output_type": "execute_result"
    }
   ],
   "source": [
    "yTest[0]"
   ]
  },
  {
   "cell_type": "code",
   "execution_count": 0,
   "metadata": {
    "colab": {
     "base_uri": "https://localhost:8080/",
     "height": 35
    },
    "colab_type": "code",
    "id": "g-I9elJyIQux",
    "outputId": "5905053d-56eb-47d9-fb6c-2630d270ae9c"
   },
   "outputs": [
    {
     "data": {
      "text/plain": [
       "(8878, 50, 512)"
      ]
     },
     "execution_count": 11,
     "metadata": {
      "tags": []
     },
     "output_type": "execute_result"
    }
   ],
   "source": [
    "xTrain.shape"
   ]
  },
  {
   "cell_type": "code",
   "execution_count": 0,
   "metadata": {
    "colab": {},
    "colab_type": "code",
    "id": "gx3PWcvO3Q4V"
   },
   "outputs": [],
   "source": [
    "# Will be used in callbacks in keras model.fit\n",
    "es = EarlyStopping(monitor='val_loss', mode='min', verbose=1, patience=2)"
   ]
  },
  {
   "cell_type": "markdown",
   "metadata": {
    "colab_type": "text",
    "id": "mfAnt-grIxQs"
   },
   "source": [
    "## **Model v1**\n",
    "Simple Single Layer LSTM followed by a dense layer.\n",
    "- LSTM layer takes input a 3d vector which has 50 timesteps, 512 Features, 1 or more samples\n",
    "- LSTM layer is the input layer in this case\n",
    "- Embeddings are directly fed into it."
   ]
  },
  {
   "cell_type": "code",
   "execution_count": 0,
   "metadata": {
    "colab": {
     "base_uri": "https://localhost:8080/",
     "height": 272
    },
    "colab_type": "code",
    "id": "bunYETa-Iw5W",
    "outputId": "603a277e-749f-4a87-9cb6-a7421a3de178"
   },
   "outputs": [
    {
     "name": "stdout",
     "output_type": "stream",
     "text": [
      "_________________________________________________________________\n",
      "Layer (type)                 Output Shape              Param #   \n",
      "=================================================================\n",
      "lstm_2 (LSTM)                (None, 256)               787456    \n",
      "_________________________________________________________________\n",
      "dropout_2 (Dropout)          (None, 256)               0         \n",
      "_________________________________________________________________\n",
      "dense_2 (Dense)              (None, 2)                 514       \n",
      "=================================================================\n",
      "Total params: 787,970\n",
      "Trainable params: 787,970\n",
      "Non-trainable params: 0\n",
      "_________________________________________________________________\n",
      "None\n"
     ]
    }
   ],
   "source": [
    "modelv1 = Sequential()\n",
    "modelv1.add(LSTM(256, input_shape=(50, 512), return_sequences=False,activity_regularizer=l1(0.0001)))\n",
    "modelv1.add(Dropout(0.5))\n",
    "modelv1.add(Dense(2, activation='softmax'))\n",
    "modelv1.compile(loss='categorical_crossentropy', optimizer='adam', metrics=['accuracy'])\n",
    "print(modelv1.summary())"
   ]
  },
  {
   "cell_type": "code",
   "execution_count": 0,
   "metadata": {
    "colab": {
     "base_uri": "https://localhost:8080/",
     "height": 217
    },
    "colab_type": "code",
    "id": "dBm95v8yIwKN",
    "outputId": "ddf50b76-88d3-4734-da59-4b6fb5426d03"
   },
   "outputs": [
    {
     "name": "stdout",
     "output_type": "stream",
     "text": [
      "Train on 8878 samples, validate on 2220 samples\n",
      "Epoch 1/5\n",
      "8878/8878 [==============================] - 22s 2ms/step - loss: 0.4762 - acc: 0.8054 - val_loss: 0.4126 - val_acc: 0.8563\n",
      "Epoch 2/5\n",
      "8878/8878 [==============================] - 21s 2ms/step - loss: 0.3793 - acc: 0.8670 - val_loss: 0.3725 - val_acc: 0.8734\n",
      "Epoch 3/5\n",
      "8878/8878 [==============================] - 21s 2ms/step - loss: 0.3428 - acc: 0.8784 - val_loss: 0.3247 - val_acc: 0.8838\n",
      "Epoch 4/5\n",
      "8878/8878 [==============================] - 21s 2ms/step - loss: 0.3089 - acc: 0.8900 - val_loss: 0.2835 - val_acc: 0.9059\n",
      "Epoch 5/5\n",
      "8878/8878 [==============================] - 21s 2ms/step - loss: 0.2740 - acc: 0.9090 - val_loss: 0.2548 - val_acc: 0.9104\n"
     ]
    }
   ],
   "source": [
    "history_v1 = modelv1.fit(xTrain, yTrain, epochs=5, validation_data=(xTest, yTest), batch_size=64,validation_split=0.2, callbacks = [es])"
   ]
  },
  {
   "cell_type": "code",
   "execution_count": 0,
   "metadata": {
    "colab": {
     "base_uri": "https://localhost:8080/",
     "height": 72
    },
    "colab_type": "code",
    "id": "q-UO_OJmIvzU",
    "outputId": "547c04ec-acb8-4ed4-8295-c85b95b5ca94"
   },
   "outputs": [
    {
     "name": "stdout",
     "output_type": "stream",
     "text": [
      "2220/2220 [==============================] - 4s 2ms/step\n",
      "\n",
      "Test accuracy =  0.9103603603603604\n"
     ]
    }
   ],
   "source": [
    "loss, acc = modelv1.evaluate(xTest, yTest)\n",
    "print()\n",
    "print(\"Test accuracy = \", acc)"
   ]
  },
  {
   "cell_type": "markdown",
   "metadata": {
    "colab_type": "text",
    "id": "hyKCgyxXQGNS"
   },
   "source": [
    "## **Model v2**\n",
    "- Double layered LSTM with dropout and dense.\n"
   ]
  },
  {
   "cell_type": "code",
   "execution_count": 0,
   "metadata": {
    "colab": {
     "base_uri": "https://localhost:8080/",
     "height": 345
    },
    "colab_type": "code",
    "id": "urgpoHawLB1M",
    "outputId": "dd5c5b4b-36d5-461b-a097-3bff69471ca8"
   },
   "outputs": [
    {
     "name": "stdout",
     "output_type": "stream",
     "text": [
      "_________________________________________________________________\n",
      "Layer (type)                 Output Shape              Param #   \n",
      "=================================================================\n",
      "lstm_3 (LSTM)                (None, 50, 256)           787456    \n",
      "_________________________________________________________________\n",
      "dropout_3 (Dropout)          (None, 50, 256)           0         \n",
      "_________________________________________________________________\n",
      "lstm_4 (LSTM)                (None, 256)               525312    \n",
      "_________________________________________________________________\n",
      "dropout_4 (Dropout)          (None, 256)               0         \n",
      "_________________________________________________________________\n",
      "dense_3 (Dense)              (None, 2)                 514       \n",
      "=================================================================\n",
      "Total params: 1,313,282\n",
      "Trainable params: 1,313,282\n",
      "Non-trainable params: 0\n",
      "_________________________________________________________________\n",
      "None\n"
     ]
    }
   ],
   "source": [
    "# MODEl v2\n",
    "# Change number of units in LSTM \n",
    "modelv2 = Sequential()\n",
    "modelv2.add(LSTM(256, input_shape=(50, 512), return_sequences=True))\n",
    "modelv2.add(Dropout(0.5)) # change to see different results\n",
    "modelv2.add(LSTM(256, input_shape=(50, 512), return_sequences=False,activity_regularizer=l1(0.0001)))\n",
    "modelv2.add(Dropout(0.5))\n",
    "modelv2.add(Dense(2, activation='softmax')) # check softmax or other function\n",
    "adam = optimizers.Adam(lr=0.001, beta_1=0.9, beta_2=0.999, epsilon=1e-8, decay=0.0, amsgrad=False)\n",
    "#adamax = optimizers.Adamax(lr=0.002, beta_1=0.9, beta_2=0.999, epsilon=1e-8, decay=0.0)\n",
    "modelv2.compile(loss='categorical_crossentropy', optimizer=adam, metrics=['accuracy'])\n",
    "print(modelv2.summary())\n"
   ]
  },
  {
   "cell_type": "code",
   "execution_count": 0,
   "metadata": {
    "colab": {
     "base_uri": "https://localhost:8080/",
     "height": 254
    },
    "colab_type": "code",
    "id": "JMBkZIqoRpNF",
    "outputId": "0da4f823-745e-4f2d-bd68-a12b32a4c2e2"
   },
   "outputs": [
    {
     "name": "stdout",
     "output_type": "stream",
     "text": [
      "Train on 8878 samples, validate on 2220 samples\n",
      "Epoch 1/5\n",
      "8878/8878 [==============================] - 42s 5ms/step - loss: 0.4865 - acc: 0.8075 - val_loss: 0.3871 - val_acc: 0.8649\n",
      "Epoch 2/5\n",
      "8878/8878 [==============================] - 40s 5ms/step - loss: 0.3828 - acc: 0.8646 - val_loss: 0.3613 - val_acc: 0.8779\n",
      "Epoch 3/5\n",
      "8878/8878 [==============================] - 40s 5ms/step - loss: 0.3427 - acc: 0.8773 - val_loss: 0.3443 - val_acc: 0.8761\n",
      "Epoch 4/5\n",
      "8878/8878 [==============================] - 40s 5ms/step - loss: 0.3186 - acc: 0.8885 - val_loss: 0.3020 - val_acc: 0.8874\n",
      "Epoch 5/5\n",
      "8878/8878 [==============================] - 40s 5ms/step - loss: 0.2809 - acc: 0.9047 - val_loss: 0.2619 - val_acc: 0.9126\n",
      "CPU times: user 4min 11s, sys: 31.5 s, total: 4min 43s\n",
      "Wall time: 3min 26s\n"
     ]
    }
   ],
   "source": [
    "%%time\n",
    "historyv2 = modelv2.fit(xTrain, yTrain, epochs=5, validation_data=(xTest, yTest), validation_split=0.2, batch_size=64)"
   ]
  },
  {
   "cell_type": "code",
   "execution_count": 0,
   "metadata": {
    "colab": {
     "base_uri": "https://localhost:8080/",
     "height": 90
    },
    "colab_type": "code",
    "id": "IFbYdDi-N-RH",
    "outputId": "aef4ad8e-1005-4aba-e3cb-1a8b24643760"
   },
   "outputs": [
    {
     "name": "stdout",
     "output_type": "stream",
     "text": [
      "2220/2220 [==============================] - 8s 4ms/step\n",
      "\n",
      "Test Accuracy : 0.9126126126126126\n",
      "Loss : 0.24418269951601287\n"
     ]
    }
   ],
   "source": [
    "loss, acc = modelv2.evaluate(xTest, yTest)\n",
    "print()\n",
    "print('Test Accuracy : {}\\nLoss : {}'.format(acc,loss))"
   ]
  },
  {
   "cell_type": "markdown",
   "metadata": {
    "colab_type": "text",
    "id": "MhhmOJrFUT2k"
   },
   "source": [
    "## **Model v3**\n",
    "- Added conv layer on top of LSTM stack. layer 1 learns more spatial relationship. Architecture after this is same as model v1."
   ]
  },
  {
   "cell_type": "code",
   "execution_count": 0,
   "metadata": {
    "colab": {
     "base_uri": "https://localhost:8080/",
     "height": 345
    },
    "colab_type": "code",
    "id": "qZczKDHBUGes",
    "outputId": "d252d77f-7458-474e-888a-4c7c02a2a861"
   },
   "outputs": [
    {
     "name": "stdout",
     "output_type": "stream",
     "text": [
      "_________________________________________________________________\n",
      "Layer (type)                 Output Shape              Param #   \n",
      "=================================================================\n",
      "conv1d_1 (Conv1D)            (None, 50, 512)           786944    \n",
      "_________________________________________________________________\n",
      "max_pooling1d_1 (MaxPooling1 (None, 25, 512)           0         \n",
      "_________________________________________________________________\n",
      "lstm_5 (LSTM)                (None, 256)               787456    \n",
      "_________________________________________________________________\n",
      "dropout_5 (Dropout)          (None, 256)               0         \n",
      "_________________________________________________________________\n",
      "dense_4 (Dense)              (None, 2)                 514       \n",
      "=================================================================\n",
      "Total params: 1,574,914\n",
      "Trainable params: 1,574,914\n",
      "Non-trainable params: 0\n",
      "_________________________________________________________________\n",
      "None\n"
     ]
    }
   ],
   "source": [
    "modelv3 = Sequential()\n",
    "modelv3.add(Conv1D(input_shape=(50, 512),filters=512, kernel_size=3, padding='same', activation='relu'))\n",
    "modelv3.add(MaxPooling1D(pool_size=2))\n",
    "modelv3.add(LSTM(256, input_shape=(50, 512), return_sequences=False,activity_regularizer=l1(0.0001)))\n",
    "modelv3.add(Dropout(0.5))\n",
    "modelv3.add(Dense(2, activation='softmax'))\n",
    "modelv3.compile(loss='categorical_crossentropy', optimizer='adam', metrics=['accuracy'])\n",
    "print(modelv3.summary())\n",
    "\n",
    "\n"
   ]
  },
  {
   "cell_type": "code",
   "execution_count": 0,
   "metadata": {
    "colab": {
     "base_uri": "https://localhost:8080/",
     "height": 254
    },
    "colab_type": "code",
    "id": "lsj3JT6PXdOP",
    "outputId": "9f88a0ca-6330-46fa-91b6-81a7c6bdf92a"
   },
   "outputs": [
    {
     "name": "stdout",
     "output_type": "stream",
     "text": [
      "Train on 8878 samples, validate on 2220 samples\n",
      "Epoch 1/5\n",
      "8878/8878 [==============================] - 18s 2ms/step - loss: 0.4156 - acc: 0.8518 - val_loss: 0.3108 - val_acc: 0.9014\n",
      "Epoch 2/5\n",
      "8878/8878 [==============================] - 14s 2ms/step - loss: 0.2318 - acc: 0.9350 - val_loss: 0.2407 - val_acc: 0.9293\n",
      "Epoch 3/5\n",
      "8878/8878 [==============================] - 14s 2ms/step - loss: 0.1537 - acc: 0.9655 - val_loss: 0.2214 - val_acc: 0.9320\n",
      "Epoch 4/5\n",
      "8878/8878 [==============================] - 14s 2ms/step - loss: 0.1223 - acc: 0.9774 - val_loss: 0.2123 - val_acc: 0.9414\n",
      "Epoch 5/5\n",
      "8878/8878 [==============================] - 14s 2ms/step - loss: 0.0977 - acc: 0.9843 - val_loss: 0.2270 - val_acc: 0.9383\n",
      "CPU times: user 1min 23s, sys: 11.2 s, total: 1min 34s\n",
      "Wall time: 1min 15s\n"
     ]
    }
   ],
   "source": [
    "%%time\n",
    "historyv3 = modelv3.fit(xTrain, yTrain, epochs=5, validation_data=(xTest, yTest), batch_size=64, validation_split=0.2, callbacks = [es])"
   ]
  },
  {
   "cell_type": "code",
   "execution_count": 0,
   "metadata": {
    "colab": {
     "base_uri": "https://localhost:8080/",
     "height": 90
    },
    "colab_type": "code",
    "id": "dll10w4rXwuq",
    "outputId": "c6b57453-6668-40eb-f965-3646999ff6b4"
   },
   "outputs": [
    {
     "name": "stdout",
     "output_type": "stream",
     "text": [
      "2220/2220 [==============================] - 3s 1ms/step\n",
      "\n",
      "Test accuracy : 0.9382882882882883 \n",
      "Loss : 0.20796732774994395\n"
     ]
    }
   ],
   "source": [
    "loss, acc = modelv3.evaluate(xTest, yTest)\n",
    "print()\n",
    "print('Test accuracy : {} \\nLoss : {}'.format(acc,loss))"
   ]
  },
  {
   "cell_type": "markdown",
   "metadata": {
    "colab_type": "text",
    "id": "FtxpGOeiZH_E"
   },
   "source": [
    "## **Model v4**\n",
    "\n",
    "- Added conv layer as input layer.. after which RNN.. v2"
   ]
  },
  {
   "cell_type": "code",
   "execution_count": 0,
   "metadata": {
    "colab": {
     "base_uri": "https://localhost:8080/",
     "height": 417
    },
    "colab_type": "code",
    "id": "VdDRa3SIYRxX",
    "outputId": "208d65e8-e218-4c16-e65c-23620fddf891"
   },
   "outputs": [
    {
     "name": "stdout",
     "output_type": "stream",
     "text": [
      "_________________________________________________________________\n",
      "Layer (type)                 Output Shape              Param #   \n",
      "=================================================================\n",
      "conv1d_2 (Conv1D)            (None, 50, 512)           786944    \n",
      "_________________________________________________________________\n",
      "max_pooling1d_2 (MaxPooling1 (None, 25, 512)           0         \n",
      "_________________________________________________________________\n",
      "lstm_6 (LSTM)                (None, 25, 512)           2099200   \n",
      "_________________________________________________________________\n",
      "dropout_6 (Dropout)          (None, 25, 512)           0         \n",
      "_________________________________________________________________\n",
      "lstm_7 (LSTM)                (None, 512)               2099200   \n",
      "_________________________________________________________________\n",
      "dropout_7 (Dropout)          (None, 512)               0         \n",
      "_________________________________________________________________\n",
      "dense_5 (Dense)              (None, 2)                 1026      \n",
      "=================================================================\n",
      "Total params: 4,986,370\n",
      "Trainable params: 4,986,370\n",
      "Non-trainable params: 0\n",
      "_________________________________________________________________\n",
      "None\n"
     ]
    }
   ],
   "source": [
    "modelv4 = Sequential()\n",
    "modelv4.add(Conv1D(input_shape=(50, 512),filters=512, kernel_size=3, padding='same', activation='relu'))\n",
    "modelv4.add(MaxPooling1D(pool_size=2))\n",
    "modelv4.add(LSTM(512, input_shape=(50, 512), return_sequences=True))\n",
    "modelv4.add(Dropout(0.5)) # change to see different results\n",
    "modelv4.add(LSTM(512, input_shape=(50, 512), return_sequences=False, activity_regularizer=l1(0.0001)))\n",
    "modelv4.add(Dropout(0.5))\n",
    "adam = optimizers.Adam(lr=0.001, beta_1=0.9, beta_2=0.999, epsilon=1e-8, decay=0.0, amsgrad=False)\n",
    "#adamax = optimizers.Adamax(lr=0.002, beta_1=0.9, beta_2=0.999, epsilon=1e-8, decay=0.0)\n",
    "modelv4.add(Dense(2, activation='softmax')) # check softmax or other function\n",
    "modelv4.compile(loss='categorical_crossentropy', optimizer= adam, metrics=['accuracy'])\n",
    "print(modelv4.summary())\n"
   ]
  },
  {
   "cell_type": "code",
   "execution_count": 0,
   "metadata": {
    "colab": {
     "base_uri": "https://localhost:8080/",
     "height": 254
    },
    "colab_type": "code",
    "id": "cuEs5YIRaS8r",
    "outputId": "3457468b-d33f-47d8-960c-51d4c5de3d74"
   },
   "outputs": [
    {
     "name": "stdout",
     "output_type": "stream",
     "text": [
      "Train on 8878 samples, validate on 2220 samples\n",
      "Epoch 1/5\n",
      "8878/8878 [==============================] - 29s 3ms/step - loss: 0.4015 - acc: 0.8629 - val_loss: 0.2928 - val_acc: 0.9144\n",
      "Epoch 2/5\n",
      "8878/8878 [==============================] - 27s 3ms/step - loss: 0.2279 - acc: 0.9412 - val_loss: 0.2791 - val_acc: 0.9077\n",
      "Epoch 3/5\n",
      "8878/8878 [==============================] - 27s 3ms/step - loss: 0.1639 - acc: 0.9636 - val_loss: 0.2134 - val_acc: 0.9392\n",
      "Epoch 4/5\n",
      "8878/8878 [==============================] - 27s 3ms/step - loss: 0.1225 - acc: 0.9779 - val_loss: 0.2193 - val_acc: 0.9387\n",
      "Epoch 5/5\n",
      "8878/8878 [==============================] - 27s 3ms/step - loss: 0.1041 - acc: 0.9831 - val_loss: 0.2016 - val_acc: 0.9432\n",
      "CPU times: user 2min 38s, sys: 23.5 s, total: 3min 2s\n",
      "Wall time: 2min 18s\n"
     ]
    }
   ],
   "source": [
    "%%time\n",
    "historyv4 = modelv4.fit(xTrain, yTrain, epochs=5, validation_data=(xTest, yTest), batch_size=64, validation_split=0.2, callbacks = [es])"
   ]
  },
  {
   "cell_type": "code",
   "execution_count": 0,
   "metadata": {
    "colab": {
     "base_uri": "https://localhost:8080/",
     "height": 90
    },
    "colab_type": "code",
    "id": "zrf2r1G_adqg",
    "outputId": "eba09927-4366-49c6-bffc-d005e5d75b39"
   },
   "outputs": [
    {
     "name": "stdout",
     "output_type": "stream",
     "text": [
      "2220/2220 [==============================] - 5s 2ms/step\n",
      "\n",
      "Test accuracy = 0.9432432432432433 \n",
      " loss - 0.18276223479224754\n"
     ]
    }
   ],
   "source": [
    "loss, acc = modelv4.evaluate(xTest, yTest)\n",
    "print()\n",
    "print('Test accuracy = {} \\n loss - {}'.format(acc,loss))"
   ]
  },
  {
   "cell_type": "markdown",
   "metadata": {
    "colab_type": "text",
    "id": "5xlWt99m0G3q"
   },
   "source": [
    "## **Results and Evaluation**"
   ]
  },
  {
   "cell_type": "markdown",
   "metadata": {
    "colab_type": "text",
    "id": "AA9CKUfh2xzJ"
   },
   "source": [
    "### Modelv1"
   ]
  },
  {
   "cell_type": "code",
   "execution_count": 0,
   "metadata": {
    "colab": {
     "base_uri": "https://localhost:8080/",
     "height": 790
    },
    "colab_type": "code",
    "id": "MmiWuuoJ22fq",
    "outputId": "e5eb5803-606d-43a4-f0ba-be46569c9535"
   },
   "outputs": [
    {
     "name": "stdout",
     "output_type": "stream",
     "text": [
      "\n"
     ]
    },
    {
     "data": {
      "image/png": "[encoded data removed]",
      "text/plain": [
       "<matplotlib.figure.Figure at 0x7fd82a3995c0>"
      ]
     },
     "metadata": {
      "tags": []
     },
     "output_type": "display_data"
    },
    {
     "name": "stdout",
     "output_type": "stream",
     "text": [
      "\n"
     ]
    },
    {
     "data": {
      "image/png": "[encoded data removed]",
      "text/plain": [
       "<matplotlib.figure.Figure at 0x7fd80b5f4cf8>"
      ]
     },
     "metadata": {
      "tags": []
     },
     "output_type": "display_data"
    },
    {
     "data": {
      "text/plain": [
       "(None, None)"
      ]
     },
     "execution_count": 32,
     "metadata": {
      "tags": []
     },
     "output_type": "execute_result"
    }
   ],
   "source": [
    "acc_plot(history_v1),loss_plot(history_v1)"
   ]
  },
  {
   "cell_type": "markdown",
   "metadata": {
    "colab_type": "text",
    "id": "ro_VRerL3Xzh"
   },
   "source": [
    "### Modelv2"
   ]
  },
  {
   "cell_type": "code",
   "execution_count": 0,
   "metadata": {
    "colab": {
     "base_uri": "https://localhost:8080/",
     "height": 790
    },
    "colab_type": "code",
    "id": "bys_Y5x_3X9b",
    "outputId": "e876531b-37df-4773-fdc7-bf44024f6b7d"
   },
   "outputs": [
    {
     "name": "stdout",
     "output_type": "stream",
     "text": [
      "\n"
     ]
    },
    {
     "data": {
      "image/png": "[encoded data removed]",
      "text/plain": [
       "<matplotlib.figure.Figure at 0x7fd80b52eba8>"
      ]
     },
     "metadata": {
      "tags": []
     },
     "output_type": "display_data"
    },
    {
     "name": "stdout",
     "output_type": "stream",
     "text": [
      "\n"
     ]
    },
    {
     "data": {
      "image/png": "[encoded data removed]",
      "text/plain": [
       "<matplotlib.figure.Figure at 0x7fd80b482da0>"
      ]
     },
     "metadata": {
      "tags": []
     },
     "output_type": "display_data"
    },
    {
     "data": {
      "text/plain": [
       "(None, None)"
      ]
     },
     "execution_count": 33,
     "metadata": {
      "tags": []
     },
     "output_type": "execute_result"
    }
   ],
   "source": [
    "acc_plot(historyv2),loss_plot(historyv2)"
   ]
  },
  {
   "cell_type": "markdown",
   "metadata": {
    "colab_type": "text",
    "id": "ySCYOF173Xgk"
   },
   "source": [
    "### Modelv3"
   ]
  },
  {
   "cell_type": "code",
   "execution_count": 0,
   "metadata": {
    "colab": {
     "base_uri": "https://localhost:8080/",
     "height": 790
    },
    "colab_type": "code",
    "id": "JhyjHlxj3Xqr",
    "outputId": "da4a391a-b8b4-48a1-fa34-6a57bed14131"
   },
   "outputs": [
    {
     "name": "stdout",
     "output_type": "stream",
     "text": [
      "\n"
     ]
    },
    {
     "data": {
      "image/png": "[encoded data removed]",
      "text/plain": [
       "<matplotlib.figure.Figure at 0x7fd80b4056d8>"
      ]
     },
     "metadata": {
      "tags": []
     },
     "output_type": "display_data"
    },
    {
     "name": "stdout",
     "output_type": "stream",
     "text": [
      "\n"
     ]
    },
    {
     "data": {
      "image/png": "[encoded data removed]",
      "text/plain": [
       "<matplotlib.figure.Figure at 0x7fd80b4a28d0>"
      ]
     },
     "metadata": {
      "tags": []
     },
     "output_type": "display_data"
    },
    {
     "data": {
      "text/plain": [
       "(None, None)"
      ]
     },
     "execution_count": 34,
     "metadata": {
      "tags": []
     },
     "output_type": "execute_result"
    }
   ],
   "source": [
    "acc_plot(historyv3),loss_plot(historyv3)"
   ]
  },
  {
   "cell_type": "markdown",
   "metadata": {
    "colab_type": "text",
    "id": "ZmzrXXpR3XFK"
   },
   "source": [
    "### Modelv4"
   ]
  },
  {
   "cell_type": "code",
   "execution_count": 0,
   "metadata": {
    "colab": {
     "base_uri": "https://localhost:8080/",
     "height": 790
    },
    "colab_type": "code",
    "id": "y0jGD9iJ3XTq",
    "outputId": "2174aab4-8189-4305-94a8-33738a2d0553"
   },
   "outputs": [
    {
     "name": "stdout",
     "output_type": "stream",
     "text": [
      "\n"
     ]
    },
    {
     "data": {
      "image/png": "[encoded data removed]",
      "text/plain": [
       "<matplotlib.figure.Figure at 0x7fd80b36afd0>"
      ]
     },
     "metadata": {
      "tags": []
     },
     "output_type": "display_data"
    },
    {
     "name": "stdout",
     "output_type": "stream",
     "text": [
      "\n"
     ]
    },
    {
     "data": {
      "image/png": "[encoded data removed]",
      "text/plain": [
       "<matplotlib.figure.Figure at 0x7fd80b2cdd30>"
      ]
     },
     "metadata": {
      "tags": []
     },
     "output_type": "display_data"
    },
    {
     "data": {
      "text/plain": [
       "(None, None)"
      ]
     },
     "execution_count": 35,
     "metadata": {
      "tags": []
     },
     "output_type": "execute_result"
    }
   ],
   "source": [
    "acc_plot(historyv4),loss_plot(historyv4)"
   ]
  },
  {
   "cell_type": "code",
   "execution_count": 0,
   "metadata": {
    "colab": {},
    "colab_type": "code",
    "id": "7zqDRPwg5SRe"
   },
   "outputs": [],
   "source": [
    "def model_eval(msg, model,test_data,test_labels):\n",
    "  print('Evaluation of: ',msg)\n",
    "  dash_length = len('Evaluation of Model')\n",
    "  print('---'*dash_length)\n",
    "  y_Pred = model.predict(test_data)\n",
    "  y_Pred = y_Pred[:,0] > 0.5\n",
    "  y_Test = test_labels[:,0] > 0.5\n",
    "  cm = confusion_matrix(y_Test, y_Pred)\n",
    "  print(cm)\n",
    "  print(classification_report(y_Test, y_Pred, target_names=['Real', 'Fake']))\n",
    "  print('---'*dash_length)"
   ]
  },
  {
   "cell_type": "code",
   "execution_count": 0,
   "metadata": {
    "colab": {
     "base_uri": "https://localhost:8080/",
     "height": 1035
    },
    "colab_type": "code",
    "id": "QS6Te96b7K6i",
    "outputId": "9a968c0a-8041-4caf-a937-50b0bac2e891"
   },
   "outputs": [
    {
     "name": "stdout",
     "output_type": "stream",
     "text": [
      "Evaluation of:  Modelv1\n",
      "---------------------------------------------------------\n",
      "[[ 978   94]\n",
      " [ 105 1043]]\n",
      "              precision    recall  f1-score   support\n",
      "\n",
      "        Real       0.90      0.91      0.91      1072\n",
      "        Fake       0.92      0.91      0.91      1148\n",
      "\n",
      "   micro avg       0.91      0.91      0.91      2220\n",
      "   macro avg       0.91      0.91      0.91      2220\n",
      "weighted avg       0.91      0.91      0.91      2220\n",
      "\n",
      "---------------------------------------------------------\n",
      "Evaluation of:  Modelv2\n",
      "---------------------------------------------------------\n",
      "[[ 975   97]\n",
      " [  97 1051]]\n",
      "              precision    recall  f1-score   support\n",
      "\n",
      "        Real       0.91      0.91      0.91      1072\n",
      "        Fake       0.92      0.92      0.92      1148\n",
      "\n",
      "   micro avg       0.91      0.91      0.91      2220\n",
      "   macro avg       0.91      0.91      0.91      2220\n",
      "weighted avg       0.91      0.91      0.91      2220\n",
      "\n",
      "---------------------------------------------------------\n",
      "Evaluation of:  Modelv3\n",
      "---------------------------------------------------------\n",
      "[[1040   32]\n",
      " [ 105 1043]]\n",
      "              precision    recall  f1-score   support\n",
      "\n",
      "        Real       0.91      0.97      0.94      1072\n",
      "        Fake       0.97      0.91      0.94      1148\n",
      "\n",
      "   micro avg       0.94      0.94      0.94      2220\n",
      "   macro avg       0.94      0.94      0.94      2220\n",
      "weighted avg       0.94      0.94      0.94      2220\n",
      "\n",
      "---------------------------------------------------------\n",
      "Evaluation of:  Modelv4\n",
      "---------------------------------------------------------\n",
      "[[1013   59]\n",
      " [  67 1081]]\n",
      "              precision    recall  f1-score   support\n",
      "\n",
      "        Real       0.94      0.94      0.94      1072\n",
      "        Fake       0.95      0.94      0.94      1148\n",
      "\n",
      "   micro avg       0.94      0.94      0.94      2220\n",
      "   macro avg       0.94      0.94      0.94      2220\n",
      "weighted avg       0.94      0.94      0.94      2220\n",
      "\n",
      "---------------------------------------------------------\n"
     ]
    }
   ],
   "source": [
    "model_eval('Modelv1',modelv1,xTest,yTest)\n",
    "model_eval('Modelv2',modelv2,xTest,yTest)\n",
    "model_eval('Modelv3',modelv3,xTest,yTest)\n",
    "model_eval('Modelv4',modelv4,xTest,yTest)"
   ]
  },
  {
   "cell_type": "markdown",
   "metadata": {
    "colab_type": "text",
    "id": "XNpEyr2_8uvl"
   },
   "source": [
    "# Generalization required.\n",
    "Work needed to be done to improve model performance."
   ]
  }
 ],
 "metadata": {
  "accelerator": "GPU",
  "colab": {
   "collapsed_sections": [],
   "name": "Open_source.ipynb",
   "provenance": [],
   "version": "0.3.2"
  },
  "kernelspec": {
   "display_name": "Python 3",
   "language": "python",
   "name": "python3"
  },
  "language_info": {
   "codemirror_mode": {
    "name": "ipython",
    "version": 3
   },
   "file_extension": ".py",
   "mimetype": "text/x-python",
   "name": "python",
   "nbconvert_exporter": "python",
   "pygments_lexer": "ipython3",
   "version": "3.7.1"
  }
 },
 "nbformat": 4,
 "nbformat_minor": 1
}
